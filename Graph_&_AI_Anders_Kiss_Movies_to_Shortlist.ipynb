{
  "nbformat": 4,
  "nbformat_minor": 0,
  "metadata": {
    "colab": {
      "name": "Graph & AI_Anders Kiss_Movies to Shortlist.ipynb",
      "provenance": [],
      "collapsed_sections": [],
      "include_colab_link": true
    },
    "kernelspec": {
      "name": "python3",
      "display_name": "Python 3"
    },
    "language_info": {
      "name": "python"
    }
  },
  "cells": [
    {
      "cell_type": "markdown",
      "metadata": {
        "id": "view-in-github",
        "colab_type": "text"
      },
      "source": [
        "<a href=\"https://colab.research.google.com/github/Anderche/graph-theory-profitable-movie-ideas/blob/main/Graph_%26_AI_Anders_Kiss_Movies_to_Shortlist.ipynb\" target=\"_parent\"><img src=\"https://colab.research.google.com/assets/colab-badge.svg\" alt=\"Open In Colab\"/></a>"
      ]
    },
    {
      "cell_type": "code",
      "source": [
        "!pip install neo4j\n",
        "!pip install networkx\n",
        "!pip install py2neo pandas matplotlib\n"
      ],
      "metadata": {
        "colab": {
          "base_uri": "https://localhost:8080/"
        },
        "id": "1mvLcevDMnFX",
        "outputId": "f44a721d-7f0e-4459-e3b0-e0bec55b936f"
      },
      "execution_count": null,
      "outputs": [
        {
          "output_type": "stream",
          "name": "stdout",
          "text": [
            "Collecting neo4j\n",
            "  Downloading neo4j-4.4.0.tar.gz (89 kB)\n",
            "\u001b[?25l\r\u001b[K     |███▊                            | 10 kB 22.2 MB/s eta 0:00:01\r\u001b[K     |███████▍                        | 20 kB 28.5 MB/s eta 0:00:01\r\u001b[K     |███████████                     | 30 kB 23.7 MB/s eta 0:00:01\r\u001b[K     |██████████████▊                 | 40 kB 19.3 MB/s eta 0:00:01\r\u001b[K     |██████████████████▍             | 51 kB 9.3 MB/s eta 0:00:01\r\u001b[K     |██████████████████████          | 61 kB 9.7 MB/s eta 0:00:01\r\u001b[K     |█████████████████████████▊      | 71 kB 8.1 MB/s eta 0:00:01\r\u001b[K     |█████████████████████████████▍  | 81 kB 9.0 MB/s eta 0:00:01\r\u001b[K     |████████████████████████████████| 89 kB 5.6 MB/s \n",
            "\u001b[?25hRequirement already satisfied: pytz in /usr/local/lib/python3.7/dist-packages (from neo4j) (2018.9)\n",
            "Building wheels for collected packages: neo4j\n",
            "  Building wheel for neo4j (setup.py) ... \u001b[?25l\u001b[?25hdone\n",
            "  Created wheel for neo4j: filename=neo4j-4.4.0-py3-none-any.whl size=114860 sha256=249c3e605e060d34865a28c006bc89f772d03daf91483c05f437614bf54fad96\n",
            "  Stored in directory: /root/.cache/pip/wheels/b8/cb/e4/d34e10b40d33911c281a6e9aa038d54ca7435310529b3f6042\n",
            "Successfully built neo4j\n",
            "Installing collected packages: neo4j\n",
            "Successfully installed neo4j-4.4.0\n",
            "Requirement already satisfied: networkx in /usr/local/lib/python3.7/dist-packages (2.6.3)\n",
            "Collecting py2neo\n",
            "  Downloading py2neo-2021.2.3-py2.py3-none-any.whl (177 kB)\n",
            "\u001b[K     |████████████████████████████████| 177 kB 7.8 MB/s \n",
            "\u001b[?25hRequirement already satisfied: pandas in /usr/local/lib/python3.7/dist-packages (1.1.5)\n",
            "Requirement already satisfied: matplotlib in /usr/local/lib/python3.7/dist-packages (3.2.2)\n",
            "Requirement already satisfied: pygments>=2.0.0 in /usr/local/lib/python3.7/dist-packages (from py2neo) (2.6.1)\n",
            "Requirement already satisfied: urllib3 in /usr/local/lib/python3.7/dist-packages (from py2neo) (1.24.3)\n",
            "Collecting interchange~=2021.0.4\n",
            "  Downloading interchange-2021.0.4-py2.py3-none-any.whl (28 kB)\n",
            "Requirement already satisfied: certifi in /usr/local/lib/python3.7/dist-packages (from py2neo) (2021.10.8)\n",
            "Collecting pansi>=2020.7.3\n",
            "  Downloading pansi-2020.7.3-py2.py3-none-any.whl (10 kB)\n",
            "Requirement already satisfied: packaging in /usr/local/lib/python3.7/dist-packages (from py2neo) (21.3)\n",
            "Collecting monotonic\n",
            "  Downloading monotonic-1.6-py2.py3-none-any.whl (8.2 kB)\n",
            "Requirement already satisfied: six>=1.15.0 in /usr/local/lib/python3.7/dist-packages (from py2neo) (1.15.0)\n",
            "Requirement already satisfied: pytz in /usr/local/lib/python3.7/dist-packages (from interchange~=2021.0.4->py2neo) (2018.9)\n",
            "Requirement already satisfied: python-dateutil>=2.7.3 in /usr/local/lib/python3.7/dist-packages (from pandas) (2.8.2)\n",
            "Requirement already satisfied: numpy>=1.15.4 in /usr/local/lib/python3.7/dist-packages (from pandas) (1.19.5)\n",
            "Requirement already satisfied: kiwisolver>=1.0.1 in /usr/local/lib/python3.7/dist-packages (from matplotlib) (1.3.2)\n",
            "Requirement already satisfied: cycler>=0.10 in /usr/local/lib/python3.7/dist-packages (from matplotlib) (0.11.0)\n",
            "Requirement already satisfied: pyparsing!=2.0.4,!=2.1.2,!=2.1.6,>=2.0.1 in /usr/local/lib/python3.7/dist-packages (from matplotlib) (3.0.6)\n",
            "Installing collected packages: pansi, monotonic, interchange, py2neo\n",
            "Successfully installed interchange-2021.0.4 monotonic-1.6 pansi-2020.7.3 py2neo-2021.2.3\n"
          ]
        }
      ]
    },
    {
      "cell_type": "code",
      "execution_count": null,
      "metadata": {
        "id": "zcReaNwlMQc5"
      },
      "outputs": [],
      "source": [
        "from neo4j import GraphDatabase\n",
        "# import networkx as nx\n",
        "\n",
        "import matplotlib.pyplot as plt\n",
        "from py2neo import Graph\n",
        "import pandas as pd\n",
        "import matplotlib \n",
        "import matplotlib.pyplot as plt\n",
        "\n",
        "# sandbox\n",
        "graph = Graph('bolt://3.95.161.151:7687', auth=(\"neo4j\", \"rake-platforms-allotment\"))\n",
        "\n",
        "# graph = Graph(\"bolt://18.234.208.38:7687\", auth=(\"neo4j\", \"variations-correlations-rowers\")) \n",
        "# graph = Graph(\"bolt://localhost\", auth=(\"neo4j\", \"neo\"))\n"
      ]
    },
    {
      "cell_type": "code",
      "source": [
        "plt.style.use('fivethirtyeight')\n",
        "pd.set_option('display.float_format', lambda x: '%.3f' % x)"
      ],
      "metadata": {
        "id": "brO5lP51pM2V"
      },
      "execution_count": null,
      "outputs": []
    },
    {
      "cell_type": "markdown",
      "source": [
        "Colab link:\n",
        "https://colab.research.google.com/drive/1Nj4laWlHk3IG3x-2IfPeabhAnIFVJPJx?usp=sharing\n"
      ],
      "metadata": {
        "id": "jt6imjMDAvw9"
      }
    },
    {
      "cell_type": "markdown",
      "source": [
        "# **BUSINESS UNDERSTANDING**\n",
        "\n",
        "The following implementation could be useful for movie executives or management at Netflix, who are trying to decide the next project to fund. \n",
        "\n",
        "We want to investigate new movies to commission for next year, and as a result we will explore historical movies where the \"revenue-to-budget\" ratio is above 10. In other words, movies that were highly profitable.\n",
        "\n",
        "This is a proxy for overall profit, since a ratio above \"1\" means that the movie was profitable.\n",
        "\n",
        "After applying this filter, we can identify lists of both Actors and Directors and hire them for new movie production."
      ],
      "metadata": {
        "id": "B-NpJ8mUnvJZ"
      }
    },
    {
      "cell_type": "markdown",
      "source": [
        "# **DATA UNDERSTANDING**\n",
        "\n",
        "### **Review the NODE labels**"
      ],
      "metadata": {
        "id": "pIHr2m1x5O7Y"
      }
    },
    {
      "cell_type": "code",
      "source": [
        "graph.run(\"CALL db.schema.visualization()\").data()"
      ],
      "metadata": {
        "id": "Vgy2NkeONOAJ",
        "colab": {
          "base_uri": "https://localhost:8080/"
        },
        "outputId": "4338e944-0368-4caf-d92c-63371f73ffb0"
      },
      "execution_count": null,
      "outputs": [
        {
          "output_type": "execute_result",
          "data": {
            "text/plain": [
              "[{'nodes': [Node('_Bloom_Perspective_', constraints=[\"Constraint( id=61, name='constraint_2876b1c0', type='UNIQUENESS', schema=(:_Bloom_Perspective_ {id}), ownedIndex=60 )\"], indexes=[], name='_Bloom_Perspective_'),\n",
              "   Node('Movie', constraints=[\"Constraint( id=37, name='constraint_737d9c1d', type='UNIQUENESS', schema=(:Movie {tmdbId}), ownedIndex=34 )\", \"Constraint( id=3, name='constraint_3d5fcb7f', type='UNIQUENESS', schema=(:Movie {movieId}), ownedIndex=1 )\"], indexes=['title', 'year', 'tagline', 'released', 'imdbRating', 'imdbId'], name='Movie'),\n",
              "   Node('User', constraints=[\"Constraint( id=13, name='constraint_3b27b0', type='UNIQUENESS', schema=(:User {userId}), ownedIndex=11 )\"], indexes=['name'], name='User'),\n",
              "   Node('Actor', constraints=[], indexes=[], name='Actor'),\n",
              "   Node('Director', constraints=[], indexes=[], name='Director'),\n",
              "   Node('Genre', constraints=[\"Constraint( id=8, name='constraint_f8689281', type='UNIQUENESS', schema=(:Genre {name}), ownedIndex=6 )\"], indexes=[], name='Genre'),\n",
              "   Node('Person', constraints=[\"Constraint( id=44, name='constraint_4499eae9', type='UNIQUENESS', schema=(:Person {tmdbId}), ownedIndex=41 )\"], indexes=['name'], name='Person')],\n",
              "  'relationships': [SIMILAR_KNN(Node(), Node()),\n",
              "   ACTED_IN(Node(), Node()),\n",
              "   ACTED_IN(Node(), Node()),\n",
              "   ACTED_IN(Node(), Node()),\n",
              "   SIM_KNN(Node(), Node()),\n",
              "   RATED(Node(), Node()),\n",
              "   IN_GENRE(Node(), Node()),\n",
              "   DIRECTED(Node(), Node()),\n",
              "   DIRECTED(Node(), Node()),\n",
              "   DIRECTED(Node(), Node())]}]"
            ]
          },
          "metadata": {},
          "execution_count": 5
        }
      ]
    },
    {
      "cell_type": "markdown",
      "source": [
        "### **Explore NODE counts and RELATIONSHIP counts**"
      ],
      "metadata": {
        "id": "tareYtbo5TmQ"
      }
    },
    {
      "cell_type": "code",
      "source": [
        "result = {\"label\": [], \"count\": []}\n",
        "for label in graph.run(\"CALL db.labels()\").to_series():\n",
        "    query = f\"MATCH (:`{label}`) RETURN count(*) as count\"\n",
        "    count = graph.run(query).to_data_frame().iloc[0]['count']\n",
        "    result[\"label\"].append(label)\n",
        "    result[\"count\"].append(count)\n",
        "nodes_df = pd.DataFrame(data=result)\n",
        "nodes_df.sort_values(\"count\")"
      ],
      "metadata": {
        "colab": {
          "base_uri": "https://localhost:8080/",
          "height": 268
        },
        "id": "xrkQm3hu5V_d",
        "outputId": "2c5252fa-b044-4987-bb4b-c7a8713d8616"
      },
      "execution_count": null,
      "outputs": [
        {
          "output_type": "execute_result",
          "data": {
            "text/html": [
              "<div>\n",
              "<style scoped>\n",
              "    .dataframe tbody tr th:only-of-type {\n",
              "        vertical-align: middle;\n",
              "    }\n",
              "\n",
              "    .dataframe tbody tr th {\n",
              "        vertical-align: top;\n",
              "    }\n",
              "\n",
              "    .dataframe thead th {\n",
              "        text-align: right;\n",
              "    }\n",
              "</style>\n",
              "<table border=\"1\" class=\"dataframe\">\n",
              "  <thead>\n",
              "    <tr style=\"text-align: right;\">\n",
              "      <th></th>\n",
              "      <th>label</th>\n",
              "      <th>count</th>\n",
              "    </tr>\n",
              "  </thead>\n",
              "  <tbody>\n",
              "    <tr>\n",
              "      <th>6</th>\n",
              "      <td>_Bloom_Perspective_</td>\n",
              "      <td>1</td>\n",
              "    </tr>\n",
              "    <tr>\n",
              "      <th>1</th>\n",
              "      <td>Genre</td>\n",
              "      <td>20</td>\n",
              "    </tr>\n",
              "    <tr>\n",
              "      <th>2</th>\n",
              "      <td>User</td>\n",
              "      <td>671</td>\n",
              "    </tr>\n",
              "    <tr>\n",
              "      <th>4</th>\n",
              "      <td>Director</td>\n",
              "      <td>4091</td>\n",
              "    </tr>\n",
              "    <tr>\n",
              "      <th>0</th>\n",
              "      <td>Movie</td>\n",
              "      <td>9125</td>\n",
              "    </tr>\n",
              "    <tr>\n",
              "      <th>3</th>\n",
              "      <td>Actor</td>\n",
              "      <td>15443</td>\n",
              "    </tr>\n",
              "    <tr>\n",
              "      <th>5</th>\n",
              "      <td>Person</td>\n",
              "      <td>19047</td>\n",
              "    </tr>\n",
              "  </tbody>\n",
              "</table>\n",
              "</div>"
            ],
            "text/plain": [
              "                 label  count\n",
              "6  _Bloom_Perspective_      1\n",
              "1                Genre     20\n",
              "2                 User    671\n",
              "4             Director   4091\n",
              "0                Movie   9125\n",
              "3                Actor  15443\n",
              "5               Person  19047"
            ]
          },
          "metadata": {},
          "execution_count": 6
        }
      ]
    },
    {
      "cell_type": "code",
      "source": [
        "result = {\"relType\": [], \"count\": []}\n",
        "for relationship_type in graph.run(\"CALL db.relationshipTypes()\").to_series():\n",
        "    query = f\"MATCH ()-[:`{relationship_type}`]->() RETURN count(*) as count\"\n",
        "    count = graph.run(query).to_data_frame().iloc[0]['count']\n",
        "    result[\"relType\"].append(relationship_type)\n",
        "    result[\"count\"].append(count)\n",
        "rels_df = pd.DataFrame(data=result)\n",
        "rels_df.sort_values(\"count\")"
      ],
      "metadata": {
        "colab": {
          "base_uri": "https://localhost:8080/",
          "height": 237
        },
        "id": "Z2ZmPx8N5hCF",
        "outputId": "2d361b46-8c45-475d-d175-8a6dd7056597"
      },
      "execution_count": null,
      "outputs": [
        {
          "output_type": "execute_result",
          "data": {
            "text/html": [
              "<div>\n",
              "<style scoped>\n",
              "    .dataframe tbody tr th:only-of-type {\n",
              "        vertical-align: middle;\n",
              "    }\n",
              "\n",
              "    .dataframe tbody tr th {\n",
              "        vertical-align: top;\n",
              "    }\n",
              "\n",
              "    .dataframe thead th {\n",
              "        text-align: right;\n",
              "    }\n",
              "</style>\n",
              "<table border=\"1\" class=\"dataframe\">\n",
              "  <thead>\n",
              "    <tr style=\"text-align: right;\">\n",
              "      <th></th>\n",
              "      <th>relType</th>\n",
              "      <th>count</th>\n",
              "    </tr>\n",
              "  </thead>\n",
              "  <tbody>\n",
              "    <tr>\n",
              "      <th>3</th>\n",
              "      <td>DIRECTED</td>\n",
              "      <td>10007</td>\n",
              "    </tr>\n",
              "    <tr>\n",
              "      <th>0</th>\n",
              "      <td>IN_GENRE</td>\n",
              "      <td>20340</td>\n",
              "    </tr>\n",
              "    <tr>\n",
              "      <th>2</th>\n",
              "      <td>ACTED_IN</td>\n",
              "      <td>35910</td>\n",
              "    </tr>\n",
              "    <tr>\n",
              "      <th>5</th>\n",
              "      <td>SIM_KNN</td>\n",
              "      <td>91250</td>\n",
              "    </tr>\n",
              "    <tr>\n",
              "      <th>1</th>\n",
              "      <td>RATED</td>\n",
              "      <td>100004</td>\n",
              "    </tr>\n",
              "    <tr>\n",
              "      <th>4</th>\n",
              "      <td>SIMILAR_KNN</td>\n",
              "      <td>547500</td>\n",
              "    </tr>\n",
              "  </tbody>\n",
              "</table>\n",
              "</div>"
            ],
            "text/plain": [
              "       relType   count\n",
              "3     DIRECTED   10007\n",
              "0     IN_GENRE   20340\n",
              "2     ACTED_IN   35910\n",
              "5      SIM_KNN   91250\n",
              "1        RATED  100004\n",
              "4  SIMILAR_KNN  547500"
            ]
          },
          "metadata": {},
          "execution_count": 8
        }
      ]
    },
    {
      "cell_type": "markdown",
      "source": [
        "### **Visualize the NODE counts with matplotlib**"
      ],
      "metadata": {
        "id": "tBV6rfp35h_g"
      }
    },
    {
      "cell_type": "code",
      "source": [
        "nodes_df.plot(kind='bar', x='label', y='count', legend=None, title=\"Node Cardinalities\")\n",
        "plt.yscale(\"log\")\n",
        "plt.xticks(rotation=45)\n",
        "plt.tight_layout()\n",
        "plt.show()"
      ],
      "metadata": {
        "colab": {
          "base_uri": "https://localhost:8080/",
          "height": 288
        },
        "id": "OCPAMlaf51Ue",
        "outputId": "5d9c9a9b-5dc2-4240-dd73-87cbcfbf8dfd"
      },
      "execution_count": null,
      "outputs": [
        {
          "output_type": "display_data",
          "data": {
            "image/png": "[encoded data removed]",
            "text/plain": [
              "<Figure size 432x288 with 1 Axes>"
            ]
          },
          "metadata": {}
        }
      ]
    },
    {
      "cell_type": "code",
      "source": [
        ""
      ],
      "metadata": {
        "id": "aDiWDodp51Wk"
      },
      "execution_count": null,
      "outputs": []
    },
    {
      "cell_type": "markdown",
      "source": [
        "# **DATA PREPARATION**"
      ],
      "metadata": {
        "id": "WdmN29eh54jq"
      }
    },
    {
      "cell_type": "code",
      "source": [
        "# query = \"\"\"MATCH (n) WHERE EXISTS(n.budget) RETURN DISTINCT \"node\" as movie_name, n.budget AS budget LIMIT 25 UNION ALL \\\n",
        "#           MATCH ()-[r]-() WHERE EXISTS(r.budget) RETURN DISTINCT \"relationship\" AS movie_name, r.budget AS budget LIMIT 25\n",
        "#         \"\"\"\n",
        "\n",
        "\n",
        "# query = \"\"\"MATCH (n) WHERE EXISTS(n.budget) RETURN DISTINCT \"node\" as movie_name, n.budget AS budget LIMIT 25 UNION ALL \\\n",
        "#           MATCH ()-[r]-() WHERE EXISTS(r.budget) RETURN DISTINCT \"relationship\" AS movie_name, r.budget AS budget LIMIT 25\n",
        "#         \"\"\"\n",
        "\n",
        "query = \"\"\"MATCH (n) WHERE EXISTS(n.ratio) RETURN DISTINCT \"node\" as entity, n.title AS title, n.ratio AS ratio ORDER BY ratio DESC, title DESC\n",
        "\"\"\"\n",
        "\n",
        "graph.run(query)"
      ],
      "metadata": {
        "colab": {
          "base_uri": "https://localhost:8080/",
          "height": 34
        },
        "id": "KHRnHVo8p5m7",
        "outputId": "2c380340-a5a9-4cf2-bc82-74fcf62d99e5"
      },
      "execution_count": null,
      "outputs": [
        {
          "output_type": "execute_result",
          "data": {
            "text/html": [
              "(No data)"
            ],
            "text/plain": [
              "(No data)"
            ]
          },
          "metadata": {},
          "execution_count": 7
        }
      ]
    },
    {
      "cell_type": "code",
      "source": [
        "# Setting Profit property\n",
        "query1 = \"\"\"\n",
        "MATCH (m:Movie)\n",
        "SET m.profit = m.revenue - m.budget\n",
        "RETURN m.profit\n",
        "\"\"\"\n"
      ],
      "metadata": {
        "id": "hvyDjDSqn43c"
      },
      "execution_count": null,
      "outputs": []
    },
    {
      "cell_type": "code",
      "source": [
        "\n",
        "graph.run(query1)"
      ],
      "metadata": {
        "colab": {
          "base_uri": "https://localhost:8080/",
          "height": 102
        },
        "id": "gTGkr6m-SWOm",
        "outputId": "1721c2aa-95cf-4519-9751-ed1757ee32be"
      },
      "execution_count": null,
      "outputs": [
        {
          "output_type": "execute_result",
          "data": {
            "text/html": [
              "<table><tr><th>m.profit</th></tr><tr><td style=\"text-align:right\">343554033</td></tr><tr><td style=\"text-align:right\">197797249</td></tr><tr><td style=\"text-align:right\">null</td></tr></table>"
            ],
            "text/plain": [
              "  m.profit \n",
              "-----------\n",
              " 343554033 \n",
              " 197797249 \n",
              "      null "
            ]
          },
          "metadata": {},
          "execution_count": 16
        }
      ]
    },
    {
      "cell_type": "code",
      "source": [
        "#Set Profit ratio\n",
        "query2=\"\"\"\n",
        "MATCH (m:Movie)\n",
        "SET m.profitmargin = m.revenue/m.budget\n",
        "RETURN m.profitmargin\n",
        "\"\"\""
      ],
      "metadata": {
        "id": "kBLiOkh3SjqW"
      },
      "execution_count": null,
      "outputs": []
    },
    {
      "cell_type": "code",
      "source": [
        "graph.run(query2)"
      ],
      "metadata": {
        "colab": {
          "base_uri": "https://localhost:8080/",
          "height": 102
        },
        "id": "tfYnsrzyS4EH",
        "outputId": "09262ec5-bc83-4b72-f2a2-570ce6582897"
      },
      "execution_count": null,
      "outputs": [
        {
          "output_type": "execute_result",
          "data": {
            "text/html": [
              "<table><tr><th>m.profitmargin</th></tr><tr><td style=\"text-align:right\">12</td></tr><tr><td style=\"text-align:right\">4</td></tr><tr><td style=\"text-align:right\">null</td></tr></table>"
            ],
            "text/plain": [
              " m.profitmargin \n",
              "----------------\n",
              "             12 \n",
              "              4 \n",
              "           null "
            ]
          },
          "metadata": {},
          "execution_count": 18
        }
      ]
    },
    {
      "cell_type": "code",
      "source": [
        " #PD Ratio & movie name of top 25 movies as per pb_ratio\n",
        "\n",
        "query3 = \"\"\"\n",
        "MATCH (n) WHERE EXISTS(n.profit) RETURN DISTINCT \"node\" as entity, n.profit AS profit, n.title As title, n.pb_ratio AS pb_ratio ORDER BY pb_ratio DESC LIMIT 25 UNION ALL MATCH ()-[r]-() WHERE EXISTS(r.profit) RETURN DISTINCT \"relationship\" AS entity, r.profit AS profit, r.title As title, r.pb_ratio AS pb_ratio ORDER BY pb_ratio DESC LIMIT 25\n",
        "\"\"\"\n",
        "\n"
      ],
      "metadata": {
        "id": "9WXbTP1oS9k5"
      },
      "execution_count": null,
      "outputs": []
    },
    {
      "cell_type": "code",
      "source": [
        "graph.run(query3)"
      ],
      "metadata": {
        "colab": {
          "base_uri": "https://localhost:8080/",
          "height": 102
        },
        "id": "M-ulKzPwTdvk",
        "outputId": "6c4af204-a0be-4883-9186-f898e4415d91"
      },
      "execution_count": null,
      "outputs": [
        {
          "output_type": "execute_result",
          "data": {
            "text/html": [
              "<table><tr><th>entity</th><th>profit</th><th>title</th><th>pb_ratio</th></tr><tr><td style=\"text-align:left\">node</td><td style=\"text-align:right\">4530818</td><td style=\"text-align:left\">Dangerous Beauty</td><td style=\"text-align:right\">40819</td></tr><tr><td style=\"text-align:left\">node</td><td style=\"text-align:right\">193340800</td><td style=\"text-align:left\">Paranormal Activity</td><td style=\"text-align:right\">12890</td></tr><tr><td style=\"text-align:left\">node</td><td style=\"text-align:right\">1161796</td><td style=\"text-align:left\">Tarnation</td><td style=\"text-align:right\">5330</td></tr></table>"
            ],
            "text/plain": [
              " entity |    profit | title               | pb_ratio \n",
              "--------|-----------|---------------------|----------\n",
              " node   |   4530818 | Dangerous Beauty    |    40819 \n",
              " node   | 193340800 | Paranormal Activity |    12890 \n",
              " node   |   1161796 | Tarnation           |     5330 "
            ]
          },
          "metadata": {},
          "execution_count": 20
        }
      ]
    },
    {
      "cell_type": "code",
      "source": [
        " #Actor, director and pd_ratio\n",
        "\n",
        "query4 = \"\"\"\n",
        "MATCH (actor)-[:ACTED_IN]->(movie)<-[:DIRECTED]-(director)\n",
        "RETURN movie.title, movie.pb_ratio, actor.name, director.name\n",
        "\"\"\""
      ],
      "metadata": {
        "id": "og_wRYhOTifm"
      },
      "execution_count": null,
      "outputs": []
    },
    {
      "cell_type": "code",
      "source": [
        "graph.run(query4)"
      ],
      "metadata": {
        "colab": {
          "base_uri": "https://localhost:8080/",
          "height": 102
        },
        "id": "Yz2fztWxTtqU",
        "outputId": "68e9e9ff-ea78-49b3-a1ae-3e4ab0d94cdc"
      },
      "execution_count": null,
      "outputs": [
        {
          "output_type": "execute_result",
          "data": {
            "text/html": [
              "<table><tr><th>movie.title</th><th>movie.pb_ratio</th><th>actor.name</th><th>director.name</th></tr><tr><td style=\"text-align:left\">Toy Story</td><td style=\"text-align:right\">12</td><td style=\"text-align:left\">Jim Varney</td><td style=\"text-align:left\">John Lasseter</td></tr><tr><td style=\"text-align:left\">Toy Story</td><td style=\"text-align:right\">12</td><td style=\"text-align:left\">Tim Allen</td><td style=\"text-align:left\">John Lasseter</td></tr><tr><td style=\"text-align:left\">Toy Story</td><td style=\"text-align:right\">12</td><td style=\"text-align:left\">Tom Hanks</td><td style=\"text-align:left\">John Lasseter</td></tr></table>"
            ],
            "text/plain": [
              " movie.title | movie.pb_ratio | actor.name | director.name \n",
              "-------------|----------------|------------|---------------\n",
              " Toy Story   |             12 | Jim Varney | John Lasseter \n",
              " Toy Story   |             12 | Tim Allen  | John Lasseter \n",
              " Toy Story   |             12 | Tom Hanks  | John Lasseter "
            ]
          },
          "metadata": {},
          "execution_count": 22
        }
      ]
    },
    {
      "cell_type": "markdown",
      "source": [
        "# **MODELING**\n",
        "\n",
        "## Model Movie Graph with 2x Graph Algorithms:\n",
        "\n",
        "## 1. **K-Nearest Neighbor** (Similarity algorithm)\n",
        "\n",
        "## 2. **Label Propagation** (Community Detection algorithm)\n"
      ],
      "metadata": {
        "id": "hJYvqMoS6GLX"
      }
    },
    {
      "cell_type": "code",
      "source": [
        "#create k_near_neighbour\n",
        "query5 = \"\"\"\n",
        "CALL gds.beta.knn.write({\n",
        "  nodeProjection: 'Movie',\n",
        "  relationshipProjection: {\n",
        "    relType: {\n",
        "      type: 'DIRECTED',\n",
        "      orientation: 'NATURAL',\n",
        "      properties: {}\n",
        "    }\n",
        "  },\n",
        "  nodeWeightProperty: 'p_ratio',\n",
        "  topK: 10,\n",
        "  randomJoins: 10,\n",
        "  sampleRate: 0.5,\n",
        "  deltaThreshold: 0.001,\n",
        "  nodeProperties: [\n",
        "    'p_ratio'\n",
        "  ],\n",
        "  writeProperty: 'k-score-neighbour',\n",
        "  writeRelationshipType: 'SIMILAR_KNN'\n",
        "})\n",
        "\"\"\""
      ],
      "metadata": {
        "id": "QoLagzPHUaWV"
      },
      "execution_count": null,
      "outputs": []
    },
    {
      "cell_type": "code",
      "source": [
        "graph.run(query5)"
      ],
      "metadata": {
        "colab": {
          "base_uri": "https://localhost:8080/",
          "height": 286
        },
        "id": "A5Si0XoWUaS3",
        "outputId": "17bf3c4a-5a4e-4efc-ae7b-a5fb4a4ab111"
      },
      "execution_count": null,
      "outputs": [
        {
          "output_type": "execute_result",
          "data": {
            "text/html": [
              "<table><tr><th>createMillis</th><th>computeMillis</th><th>writeMillis</th><th>postProcessingMillis</th><th>nodesCompared</th><th>relationshipsWritten</th><th>similarityDistribution</th><th>configuration</th></tr><tr><td style=\"text-align:right\">65</td><td style=\"text-align:right\">589</td><td style=\"text-align:right\">2356</td><td style=\"text-align:right\">-1</td><td style=\"text-align:right\">9125</td><td style=\"text-align:right\">91250</td><td style=\"text-align:left\">{p1: 0.5000038145808503, max: 1.000007629278116, p5: 1.000007629278116, p90: 1.000007629278116, p50: 1.000007629278116, p95: 1.000007629278116, p10: 1.000007629278116, p75: 1.000007629278116, p99: 1.000007629278116, p25: 1.000007629278116, p100: 1.000007629278116, min: 2.4622655473649502e-05, mean: 0.9911551912258761, stdDev: 0.08051821478326068}</td><td style=\"text-align:left\">{topK: 10, maxIterations: 100, writeConcurrency: 4, randomJoins: 10, perturbationRate: 0.0, sampleRate: 0.5, concurrency: 4, writeProperty: &#039;k-score-neighbour&#039;, writeRelationshipType: &#039;SIMILAR_KNN&#039;, nodeWeightProperty: &#039;p_ratio&#039;, nodeLabels: [&#039;*&#039;], sudo: false, relationshipTypes: [&#039;*&#039;], deltaThreshold: 0.001, username: null}</td></tr></table>"
            ],
            "text/plain": [
              " createMillis | computeMillis | writeMillis | postProcessingMillis | nodesCompared | relationshipsWritten | similarityDistribution                                                                                                                                                                                                                                                                                                                                       | configuration                                                                                                                                                                                                                                                                                                                          \n",
              "--------------|---------------|-------------|----------------------|---------------|----------------------|--------------------------------------------------------------------------------------------------------------------------------------------------------------------------------------------------------------------------------------------------------------------------------------------------------------------------------------------------------------|----------------------------------------------------------------------------------------------------------------------------------------------------------------------------------------------------------------------------------------------------------------------------------------------------------------------------------------\n",
              "           65 |           589 |        2356 |                   -1 |          9125 |                91250 | {p1: 0.5000038145808503, max: 1.000007629278116, p5: 1.000007629278116, p90: 1.000007629278116, p50: 1.000007629278116, p95: 1.000007629278116, p10: 1.000007629278116, p75: 1.000007629278116, p99: 1.000007629278116, p25: 1.000007629278116, p100: 1.000007629278116, min: 2.4622655473649502e-05, mean: 0.9911551912258761, stdDev: 0.08051821478326068} | {topK: 10, maxIterations: 100, writeConcurrency: 4, randomJoins: 10, perturbationRate: 0.0, sampleRate: 0.5, concurrency: 4, writeProperty: 'k-score-neighbour', writeRelationshipType: 'SIMILAR_KNN', nodeWeightProperty: 'p_ratio', nodeLabels: ['*'], sudo: false, relationshipTypes: ['*'], deltaThreshold: 0.001, username: null} "
            ]
          },
          "metadata": {},
          "execution_count": 24
        }
      ]
    },
    {
      "cell_type": "code",
      "source": [
        ""
      ],
      "metadata": {
        "id": "CtfHDwIe6bJa"
      },
      "execution_count": null,
      "outputs": []
    },
    {
      "cell_type": "code",
      "source": [
        "# Label Propagation \n",
        "\n",
        "query6 = \"\"\"\n",
        "CALL gds.labelPropagation.write({\n",
        "  nodeProjection: 'Movie',\n",
        "  relationshipProjection: {\n",
        "    relType: {\n",
        "      type: 'DIRECTED',\n",
        "      orientation: 'UNDIRECTED',\n",
        "      properties: {\n",
        "        p_ratio: {\n",
        "          property: 'p_ratio',\n",
        "          defaultValue: 1\n",
        "        }\n",
        "      }\n",
        "    }\n",
        "  },\n",
        "  relationshipWeightProperty: 'p_ratio',\n",
        "  writeProperty: 'lpa'\n",
        "})\n",
        "\"\"\""
      ],
      "metadata": {
        "id": "BIl7HLiHU5D1"
      },
      "execution_count": null,
      "outputs": []
    },
    {
      "cell_type": "code",
      "source": [
        "graph.run(query6)"
      ],
      "metadata": {
        "colab": {
          "base_uri": "https://localhost:8080/",
          "height": 254
        },
        "id": "g1kYjlUgVcL1",
        "outputId": "86e638a4-ff73-41d7-f6fd-ac28d6d66475"
      },
      "execution_count": null,
      "outputs": [
        {
          "output_type": "execute_result",
          "data": {
            "text/html": [
              "<table><tr><th>writeMillis</th><th>nodePropertiesWritten</th><th>ranIterations</th><th>didConverge</th><th>communityCount</th><th>communityDistribution</th><th>postProcessingMillis</th><th>createMillis</th><th>computeMillis</th><th>configuration</th></tr><tr><td style=\"text-align:right\">22</td><td style=\"text-align:right\">9125</td><td style=\"text-align:right\">1</td><td style=\"text-align:left\">true</td><td style=\"text-align:right\">9125</td><td style=\"text-align:left\">{p99: 1, min: 1, max: 1, mean: 1.0, p90: 1, p50: 1, p999: 1, p95: 1, p75: 1}</td><td style=\"text-align:right\">35</td><td style=\"text-align:right\">68</td><td style=\"text-align:right\">2</td><td style=\"text-align:left\">{maxIterations: 10, writeConcurrency: 4, seedProperty: null, consecutiveIds: false, relationshipWeightProperty: &#039;p_ratio&#039;, concurrency: 4, writeProperty: &#039;lpa&#039;, nodeLabels: [&#039;*&#039;], sudo: false, nodeWeightProperty: null, relationshipTypes: [&#039;*&#039;], username: null}</td></tr></table>"
            ],
            "text/plain": [
              " writeMillis | nodePropertiesWritten | ranIterations | didConverge | communityCount | communityDistribution                                                        | postProcessingMillis | createMillis | computeMillis | configuration                                                                                                                                                                                                                                                        \n",
              "-------------|-----------------------|---------------|-------------|----------------|------------------------------------------------------------------------------|----------------------|--------------|---------------|----------------------------------------------------------------------------------------------------------------------------------------------------------------------------------------------------------------------------------------------------------------------\n",
              "          22 |                  9125 |             1 | true        |           9125 | {p99: 1, min: 1, max: 1, mean: 1.0, p90: 1, p50: 1, p999: 1, p95: 1, p75: 1} |                   35 |           68 |             2 | {maxIterations: 10, writeConcurrency: 4, seedProperty: null, consecutiveIds: false, relationshipWeightProperty: 'p_ratio', concurrency: 4, writeProperty: 'lpa', nodeLabels: ['*'], sudo: false, nodeWeightProperty: null, relationshipTypes: ['*'], username: null} "
            ]
          },
          "metadata": {},
          "execution_count": 26
        }
      ]
    },
    {
      "cell_type": "code",
      "source": [
        "# Stream KN \n",
        "\n",
        "query7 = \"\"\"\n",
        "CALL gds.beta.knn.stream(({\n",
        "  nodeProjection: 'Movie',\n",
        "  relationshipProjection: {\n",
        "    relType: {\n",
        "      type: 'DIRECTED',\n",
        "      orientation: 'NATURAL',\n",
        "      properties: {}\n",
        "    }\n",
        "  },\n",
        "  nodeWeightProperty: 'p_ratio',\n",
        "  topK: 10,\n",
        "  randomJoins: 10,\n",
        "  sampleRate: 0.5,\n",
        "  deltaThreshold: 0.001,\n",
        "  nodeProperties: [\n",
        "    'p_ratio'\n",
        "  ]\n",
        "}))\n",
        "YIELD node1, node2, similarity\n",
        "WITH node1, collect({node: gds.util.asNode(node2), similarity: similarity}) AS to\n",
        "RETURN gds.util.asNode(node1) AS from, to\n",
        "LIMIT toInteger(42);\n",
        "\"\"\"\n"
      ],
      "metadata": {
        "id": "u4NtgfMyVh8I"
      },
      "execution_count": null,
      "outputs": []
    },
    {
      "cell_type": "code",
      "source": [
        "graph.run(query7)"
      ],
      "metadata": {
        "colab": {
          "base_uri": "https://localhost:8080/",
          "height": 1000
        },
        "id": "Dx-b7CLtV7O5",
        "outputId": "df9b578e-7afe-4cc6-a78b-14509f7ec072"
      },
      "execution_count": null,
      "outputs": [
        {
          "output_type": "execute_result",
          "data": {
            "text/html": [
              "<table><tr><th>from</th><th>to</th></tr><tr><td style=\"text-align:left\">(_0:Movie {actor_name: &#039;Don Rickles&#039;, actorsList: [&#039;Jim Varney&#039;, &#039;Tim Allen&#039;, &#039;Tom Hanks&#039;, &#039;Don Rickles&#039;], budget: 30000000, communities: 0, community: 0, countries: [&#039;USA&#039;], directorList: [&#039;John Lasseter&#039;, &#039;John Lasseter&#039;, &#039;John Lasseter&#039;, &#039;John Lasseter&#039;], director_name: &#039;John Lasseter&#039;, imdbId: &#039;0114709&#039;, imdbRating: 8.3, imdbVotes: 591836, lable_prop: 0, languages: [&#039;English&#039;], louva: [0], louvain: 0, `louvain-2`: 0, lpa: 0, modularityOptimization: 0, movieId: &#039;1&#039;, p_ratio: 12, pagerank: 0.15000000000000002, pb_ratio: 12, plot: &quot;A cowboy doll is profoundly threatened and jealous when a new spaceman figure supplants him as top toy in a boy&#039;s room.&quot;, poster: &#039;https://image.tmdb.org/t/p/w440_and_h660_face/uXDfjJbdP4ijW5hWSBrPrlKpxab.jpg&#039;, profit: 343554033, profitmargin: 12, released: &#039;1995-11-22&#039;, revenue: 373554033, runtime: 81, sharveen: 0.15000000000000002, subcommunities: [0], title: &#039;Toy Story&#039;, tmdbId: &#039;862&#039;, url: &#039;https://themoviedb.org/movie/862&#039;, year: 1995})</td><td style=\"text-align:left\">[{node: (_1634:Movie {actor_name: &#039;Matt Frewer&#039;, actorsList: [&#039;Rick Moranis&#039;, &#039;Kristine Sutherland&#039;, &#039;Marcia Strassman&#039;, &#039;Matt Frewer&#039;], budget: 18000000, communities: 1615, community: 1615, countries: [&#039;USA&#039;, &#039; Mexico&#039;], directorList: [&#039;Joe Johnston&#039;, &#039;Joe Johnston&#039;, &#039;Joe Johnston&#039;, &#039;Joe Johnston&#039;], director_name: &#039;Joe Johnston&#039;, imdbId: &#039;0097523&#039;, imdbRating: 6.3, imdbVotes: 102360, lable_prop: 1634, languages: [&#039;English&#039;], louva: [1615], louvain: 1615, `louvain-2`: 1615, lpa: 1634, modularityOptimization: 1615, movieId: &#039;2054&#039;, p_ratio: 12, pagerank: 0.15000000000000002, pb_ratio: 12, plot: &#039;The scientist father of a teenage girl and boy accidentally shrinks his and two other neighborhood teens to the size of insects. Now the teens must fight diminutive dangers as the father searches for them.&#039;, poster: &#039;https://image.tmdb.org/t/p/w440_and_h660_face/omQOzahi2NIeiYznNxHFDvNbvo6.jpg&#039;, profit: 204724172, profitmargin: 12, released: &#039;1989-06-23&#039;, revenue: 222724172, runtime: 93, sharveen: 0.15000000000000002, subcommunities: [1615], title: &#039;Honey, I Shrunk the Kids&#039;, tmdbId: &#039;9354&#039;, url: &#039;https://themoviedb.org/movie/9354&#039;, year: 1989}), similarity: 1.0}, {node: (_981:Movie {actor_name: &#039;Patrick Magee&#039;, actorsList: [&#039;Michael Bates&#039;, &#039;Warren Clarke&#039;, &#039;Malcolm McDowell&#039;, &#039;Patrick Magee&#039;], budget: 2200000, communities: 962, community: 962, countries: [&#039;UK&#039;, &#039; USA&#039;], directorList: [&#039;Stanley Kubrick&#039;, &#039;Stanley Kubrick&#039;, &#039;Stanley Kubrick&#039;, &#039;Stanley Kubrick&#039;], director_name: &#039;Stanley Kubrick&#039;, imdbId: &#039;0066921&#039;, imdbRating: 8.4, imdbVotes: 534547, lable_prop: 981, languages: [&#039;English&#039;], louva: [962], louvain: 962, `louvain-2`: 962, lpa: 981, modularityOptimization: 962, movieId: &#039;1206&#039;, p_ratio: 12, pagerank: 0.15000000000000002, pb_ratio: 12, plot: &quot;In future Britain, charismatic delinquent Alex DeLarge is jailed and volunteers for an experimental aversion therapy developed by the government in an effort to solve society&#039;s crime problem - but not all goes according to plan.&quot;, poster: &#039;https://image.tmdb.org/t/p/w440_and_h660_face/4sHeTAp65WrSSuc05nRBKddhBxO.jpg&#039;, profit: 24389000, profitmargin: 12, released: &#039;1972-02-02&#039;, revenue: 26589000, runtime: 136, sharveen: 0.15000000000000002, subcommunities: [962], title: &#039;Clockwork Orange, A&#039;, tmdbId: &#039;185&#039;, url: &#039;https://themoviedb.org/movie/185&#039;, year: 1971}), similarity: 1.0}, {node: (_1938:Movie {actor_name: &#039;Carl Weathers&#039;, actorsList: [&#039;Sylvester Stallone&#039;, &#039;Talia Shire&#039;, &#039;Burt Young&#039;, &#039;Carl Weathers&#039;], budget: 7000000, communities: 1919, community: 1919, countries: [&#039;USA&#039;], directorList: [&#039;Sylvester Stallone&#039;, &#039;Sylvester Stallone&#039;, &#039;Sylvester Stallone&#039;, &#039;Sylvester Stallone&#039;], director_name: &#039;Sylvester Stallone&#039;, imdbId: &#039;0079817&#039;, imdbRating: 7.2, imdbVotes: 131153, lable_prop: 1938, languages: [&#039;English&#039;, &#039; Italian&#039;], louva: [1919], louvain: 1919, `louvain-2`: 1919, lpa: 1938, modularityOptimization: 1919, movieId: &#039;2409&#039;, p_ratio: 12, pagerank: 0.15000000000000002, pb_ratio: 12, plot: &#039;Rocky struggles in family life after his bout with Apollo Creed, while the embarrassed champ insistently goads him to accept a challenge for a rematch.&#039;, poster: &#039;https://image.tmdb.org/t/p/w440_and_h660_face/b7InUqaGt66t5zF65f6hsK9lD8R.jpg&#039;, profit: 78182160, profitmargin: 12, released: &#039;1979-06-15&#039;, revenue: 85182160, runtime: 119, sharveen: 0.15000000000000002, subcommunities: [1919], title: &#039;Rocky II&#039;, tmdbId: &#039;1367&#039;, url: &#039;https://themoviedb.org/movie/1367&#039;, year: 1979}), similarity: 1.0}, {node: (_1161:Movie {actor_name: &#039;David Booth&#039;, actorsList: [&#039;Neve Campbell&#039;, &#039;Drew Barrymore&#039;, &#039;Kevin Patrick Walls&#039;, &#039;David Booth&#039;], budget: 14000000, communities: 1142, community: 1142, countries: [&#039;USA&#039;], directorList: [&#039;Wes Craven&#039;, &#039;Wes Craven&#039;, &#039;Wes Craven&#039;, &#039;Wes Craven&#039;], director_name: &#039;Wes Craven&#039;, imdbId: &#039;0117571&#039;, imdbRating: 7.2, imdbVotes: 214246, lable_prop: 1161, languages: [&#039;English&#039;], louva: [1142], louvain: 1142, `louvain-2`: 1142, lpa: 1161, modularityOptimization: 1142, movieId: &#039;1407&#039;, p_ratio: 12, pagerank: 0.15000000000000002, pb_ratio: 12, plot: &quot;Attempting to cope with her mother&#039;s murder, Sydney and her horror movie-obsessed friends are stalked by a murderer who seems to have a hard time letting the past go.&quot;, poster: &#039;https://image.tmdb.org/t/p/w440_and_h660_face/aXAByjBN8UhaYvotqRCwa5MsMGu.jpg&#039;, profit: 159046663, profitmargin: 12, released: &#039;1996-12-20&#039;, revenue: 173046663, runtime: 111, sharveen: 0.15000000000000002, subcommunities: [1142], title: &#039;Scream&#039;, tmdbId: &#039;4232&#039;, url: &#039;https://themoviedb.org/movie/4232&#039;, year: 1996}), similarity: 1.0}, {node: (_4329:Movie {actor_name: &#039;Johnny Knoxville&#039;, actorsList: [&#039;Bam Margera&#039;, &#039;Steve-O&#039;, &#039;Chris Pontius&#039;, &#039;Johnny Knoxville&#039;], budget: 5000000, communities: 4310, community: 4310, countries: [&#039;USA&#039;], directorList: [&#039;Jeff Tremaine&#039;, &#039;Jeff Tremaine&#039;, &#039;Jeff Tremaine&#039;, &#039;Jeff Tremaine&#039;], director_name: &#039;Jeff Tremaine&#039;, imdbId: &#039;0322802&#039;, imdbRating: 6.6, imdbVotes: 66432, lable_prop: 4329, languages: [&#039;English&#039;], louva: [4310], louvain: 4310, `louvain-2`: 4310, lpa: 4329, modularityOptimization: 4310, movieId: &#039;5785&#039;, p_ratio: 12, pagerank: 0.15000000000000002, pb_ratio: 12, plot: &#039;Johnny Knoxville and his band of maniacs perform a variety of stunts and gross-out gags on the big screen for the first time.&#039;, poster: &#039;https://image.tmdb.org/t/p/w440_and_h660_face/m6KzYeogP85u8JVNJfh21TEKAN6.jpg&#039;, profit: 59282312, profitmargin: 12, released: &#039;2002-10-25&#039;, revenue: 64282312, runtime: 87, sharveen: 0.15000000000000002, subcommunities: [4310], title: &#039;Jackass: The Movie&#039;, tmdbId: &#039;9012&#039;, url: &#039;https://themoviedb.org/movie/9012&#039;, year: 2002}), similarity: 1.0}, {node: (_769:Movie {actor_name: &#039;Ingrid Bergman&#039;, actorsList: [&#039;Cary Grant&#039;, &#039;Claude Rains&#039;, &#039;Louis Calhern&#039;, &#039;Ingrid Bergman&#039;], budget: 2000000, communities: 750, community: 750, countries: [&#039;USA&#039;], directorList: [&#039;Alfred Hitchcock&#039;, &#039;Alfred Hitchcock&#039;, &#039;Alfred Hitchcock&#039;, &#039;Alfred Hitchcock&#039;], director_name: &#039;Alfred Hitchcock&#039;, imdbId: &#039;0038787&#039;, imdbRating: 8.1, imdbVotes: 71749, lable_prop: 769, languages: [&#039;English&#039;, &#039; French&#039;, &#039; Portuguese&#039;], louva: [750], louvain: 750, `louvain-2`: 750, lpa: 769, modularityOptimization: 750, movieId: &#039;930&#039;, p_ratio: 12, pagerank: 0.15000000000000002, pb_ratio: 12, plot: &#039;A woman is asked to spy on a group of Nazi friends in South America. How far will she have to go to ingratiate herself with them?&#039;, poster: &#039;https://image.tmdb.org/t/p/w440_and_h660_face/yUjKnpColooH88BFQJwwgNOQ56N.jpg&#039;, profit: 22464742, profitmargin: 12, released: &#039;1946-09-06&#039;, revenue: 24464742, runtime: 101, sharveen: 0.15000000000000002, subcommunities: [750], title: &#039;Notorious&#039;, tmdbId: &#039;303&#039;, url: &#039;https://themoviedb.org/movie/303&#039;, year: 1946}), similarity: 1.0}, {node: (_2919:Movie {actor_name: &#039;Diana Rigg&#039;, actorsList: [&#039;Gabriele Ferzetti&#039;, &#039;Telly Savalas&#039;, &#039;George Lazenby&#039;, &#039;Diana Rigg&#039;], budget: 6500000, communities: 2900, community: 2900, countries: [&#039;UK&#039;, &#039; USA&#039;], directorList: [&#039;Peter R. Hunt&#039;, &#039;Peter R. Hunt&#039;, &#039;Peter R. Hunt&#039;, &#039;Peter R. Hunt&#039;], director_name: &#039;Peter R. Hunt&#039;, imdbId: &#039;0064757&#039;, imdbRating: 6.8, imdbVotes: 58025, lable_prop: 2919, languages: [&#039;English&#039;, &#039; German&#039;, &#039; French&#039;], louva: [2900], louvain: 2900, `louvain-2`: 2900, lpa: 2919, modularityOptimization: 2900, movieId: &#039;3633&#039;, p_ratio: 12, pagerank: 0.15000000000000002, pb_ratio: 12, plot: &quot;James Bond woos a mob boss&#039;s daughter and goes undercover to uncover the true reason for Blofeld&#039;s allergy research in the Swiss Alps that involves beautiful women from around the world.&quot;, poster: &#039;https://image.tmdb.org/t/p/w440_and_h660_face/pMOZWDBtvocTVGNIgQZbxn6byyw.jpg&#039;, profit: 75474493, profitmargin: 12, released: &#039;1969-12-18&#039;, revenue: 81974493, runtime: 142, sharveen: 0.15000000000000002, subcommunities: [2900], title: &quot;On Her Majesty&#039;s Secret Service&quot;, tmdbId: &#039;668&#039;, url: &#039;https://themoviedb.org/movie/668&#039;, year: 1969}), similarity: 1.0}, {node: (_8655:Movie {actor_name: &#039;Kiele Sanchez&#039;, actorsList: [&#039;Frank Grillo&#039;, &#039;Carmen Ejogo&#039;, &#039;Zach Gilford&#039;, &#039;Kiele Sanchez&#039;], budget: 9000000, communities: 8635, community: 8635, countries: [&#039;USA&#039;, &#039; France&#039;], directorList: [&#039;James DeMonaco&#039;, &#039;James DeMonaco&#039;, &#039;James DeMonaco&#039;, &#039;James DeMonaco&#039;], director_name: &#039;James DeMonaco&#039;, imdbId: &#039;2975578&#039;, imdbRating: 6.5, imdbVotes: 81462, lable_prop: 8655, languages: [&#039;English&#039;], louva: [8635], louvain: 8635, `louvain-2`: 8635, lpa: 8655, modularityOptimization: 8635, movieId: &#039;112818&#039;, p_ratio: 12, pagerank: 0.15000000000000002, pb_ratio: 12, plot: &#039;Three groups of people are trying to survive Purge Night, when their stories intertwine and are left stranded in The Purge trying to survive the chaos and violence that occurs.&#039;, poster: &#039;https://image.tmdb.org/t/p/w440_and_h660_face/f2HD5iVhJWWv72QVWThUKk09zYy.jpg&#039;, profit: 102928365, profitmargin: 12, released: &#039;2014-07-18&#039;, revenue: 111928365, runtime: 103, sharveen: 0.15000000000000002, subcommunities: [8635], title: &#039;Purge: Anarchy, The&#039;, tmdbId: &#039;238636&#039;, url: &#039;https://themoviedb.org/movie/238636&#039;, year: 2014}), similarity: 1.0}, {node: (_1547:Movie {actor_name: &#039;Carolyn Farina&#039;, actorsList: [&#039;Taylor Nichols&#039;, &#039;Chris Eigeman&#039;, &#039;Edward Clements&#039;, &#039;Carolyn Farina&#039;], budget: 225000, communities: 1528, community: 1528, countries: [&#039;USA&#039;], directorList: [&#039;Whit Stillman&#039;, &#039;Whit Stillman&#039;, &#039;Whit Stillman&#039;, &#039;Whit Stillman&#039;], director_name: &#039;Whit Stillman&#039;, imdbId: &#039;0100142&#039;, imdbRating: 7.5, imdbVotes: 6898, lable_prop: 1547, languages: [&#039;English&#039;], louva: [1528], louvain: 1528, `louvain-2`: 1528, lpa: 1547, modularityOptimization: 1528, movieId: &#039;1966&#039;, p_ratio: 12, pagerank: 0.15000000000000002, pb_ratio: 12, plot: &#039;A group of young upper-class Manhattanites are blithely passing through the gala debutante season, when an unusual outsider joins them and stirs them up.&#039;, poster: &#039;https://image.tmdb.org/t/p/w440_and_h660_face/852ZwTRj9tRxkGOT0Pu0Ep8yimk.jpg&#039;, profit: 2675000, profitmargin: 12, released: &#039;1990-08-03&#039;, revenue: 2900000, runtime: 98, sharveen: 0.15000000000000002, subcommunities: [1528], title: &#039;Metropolitan&#039;, tmdbId: &#039;15389&#039;, url: &#039;https://themoviedb.org/movie/15389&#039;, year: 1990}), similarity: 1.0}, {node: (_1558:Movie {actor_name: &#039;Erich Anderson&#039;, actorsList: [&#039;Kimberly Beck&#039;, &#039;Peter Barton&#039;, &#039;Judie Aronson&#039;, &#039;Erich Anderson&#039;], budget: 2600000, communities: 1539, community: 1539, countries: [&#039;USA&#039;], directorList: [&#039;Joseph Zito&#039;, &#039;Joseph Zito&#039;, &#039;Joseph Zito&#039;, &#039;Joseph Zito&#039;], director_name: &#039;Joseph Zito&#039;, imdbId: &#039;0087298&#039;, imdbRating: 5.9, imdbVotes: 28288, lable_prop: 1558, languages: [&#039;English&#039;], louva: [1539], louvain: 1539, `louvain-2`: 1539, lpa: 1558, modularityOptimization: 1539, movieId: &#039;1977&#039;, p_ratio: 12, pagerank: 0.15000000000000002, pb_ratio: 12, plot: &#039;After being mortally wounded and taken to the morgue, murderer Jason Voorhees spontaneously revives and embarks on a killing spree as he makes his way back to his home at Camp Crystal Lake.&#039;, poster: &#039;https://image.tmdb.org/t/p/w440_and_h660_face/5KRBkaF6PdorcFjWiDY4tJy67Jf.jpg&#039;, profit: 30380880, profitmargin: 12, released: &#039;1984-04-13&#039;, revenue: 32980880, runtime: 91, sharveen: 0.15000000000000002, subcommunities: [1539], title: &#039;Friday the 13th Part IV: The Final Chapter&#039;, tmdbId: &#039;9730&#039;, url: &#039;https://themoviedb.org/movie/9730&#039;, year: 1984}), similarity: 1.0}]</td></tr><tr><td style=\"text-align:left\">(_5:Movie {actor_name: &#039;Jonathan Hyde&#039;, actorsList: [&#039;Robin Williams&#039;, &#039;Bradley Pierce&#039;, &#039;Kirsten Dunst&#039;, &#039;Jonathan Hyde&#039;], budget: 65000000, communities: 1, community: 1, countries: [&#039;USA&#039;], directorList: [&#039;Joe Johnston&#039;, &#039;Joe Johnston&#039;, &#039;Joe Johnston&#039;, &#039;Joe Johnston&#039;], director_name: &#039;Joe Johnston&#039;, imdbId: &#039;0113497&#039;, imdbRating: 6.9, imdbVotes: 198355, lable_prop: 5, languages: [&#039;English&#039;, &#039; French&#039;], louva: [1], louvain: 1, `louvain-2`: 1, lpa: 5, modularityOptimization: 1, movieId: &#039;2&#039;, p_ratio: 4, pagerank: 0.15000000000000002, pb_ratio: 4, plot: &#039;When two kids find and play a magical board game, they release a man trapped for decades in it and a host of dangers that can only be stopped by finishing the game.&#039;, poster: &#039;https://image.tmdb.org/t/p/w440_and_h660_face/vgpXmVaVyUL7GGiDeiK1mKEKzcX.jpg&#039;, profit: 197797249, profitmargin: 4, released: &#039;1995-12-15&#039;, revenue: 262797249, runtime: 104, sharveen: 0.15000000000000002, subcommunities: [1], title: &#039;Jumanji&#039;, tmdbId: &#039;8844&#039;, url: &#039;https://themoviedb.org/movie/8844&#039;, year: 1995})</td><td style=\"text-align:left\">[{node: (_6329:Movie {actor_name: &#039;Diane Keaton&#039;, actorsList: [&#039;Claire Danes&#039;, &#039;Rachel McAdams&#039;, &#039;Dermot Mulroney&#039;, &#039;Diane Keaton&#039;], budget: 19000000, communities: 6310, community: 6310, countries: [&#039;USA&#039;], directorList: [&#039;Thomas Bezucha&#039;, &#039;Thomas Bezucha&#039;, &#039;Thomas Bezucha&#039;, &#039;Thomas Bezucha&#039;], director_name: &#039;Thomas Bezucha&#039;, imdbId: &#039;0356680&#039;, imdbRating: 6.3, imdbVotes: 48360, lable_prop: 6329, languages: [&#039;English&#039;, &#039; American Sign Language&#039;], louva: [6310], louvain: 6310, `louvain-2`: 6310, lpa: 6329, modularityOptimization: 6310, movieId: &#039;41573&#039;, p_ratio: 4, pagerank: 0.15000000000000002, pb_ratio: 4, plot: &quot;An uptight, conservative, businesswoman accompanies her boyfriend to his eccentric and outgoing family&#039;s annual Christmas celebration and finds that she&#039;s a fish out of water in their free-spirited way of life.&quot;, poster: &#039;https://image.tmdb.org/t/p/w440_and_h660_face/3QPSWIx14H7sfaLqY5bh1qDNQhZ.jpg&#039;, profit: 73000000, profitmargin: 4, released: &#039;2005-12-16&#039;, revenue: 92000000, runtime: 103, sharveen: 0.15000000000000002, subcommunities: [6310], title: &#039;Family Stone, The&#039;, tmdbId: &#039;9043&#039;, url: &#039;https://themoviedb.org/movie/9043&#039;, year: 2005}), similarity: 1.0}, {node: (_1403:Movie {actor_name: &#039;Melanie Chisholm&#039;, actorsList: [&#039;Victoria Beckham&#039;, &#039;Emma Bunton&#039;, &#039;Geri Halliwell&#039;, &#039;Melanie Chisholm&#039;], budget: 25000000, communities: 1384, community: 1384, countries: [&#039;UK&#039;], directorList: [&#039;Bob Spiers&#039;, &#039;Bob Spiers&#039;, &#039;Bob Spiers&#039;, &#039;Bob Spiers&#039;], director_name: &#039;Bob Spiers&#039;, imdbId: &#039;0120185&#039;, imdbRating: 3.3, imdbVotes: 27839, lable_prop: 1403, languages: [&#039;English&#039;], louva: [1384], louvain: 1384, `louvain-2`: 1384, lpa: 1403, modularityOptimization: 1384, movieId: &#039;1760&#039;, p_ratio: 4, pagerank: 0.15000000000000002, pb_ratio: 4, plot: &#039;World famous pop group The Spice Girls zip around London in their luxurious double decker tour bus having various adventures and performing for their fans.&#039;, poster: &#039;https://image.tmdb.org/t/p/w440_and_h660_face/yWK6Wz8kHPlBcWW9BzZm2Dm0cOl.jpg&#039;, profit: 75000000, profitmargin: 4, released: &#039;1998-01-23&#039;, revenue: 100000000, runtime: 93, sharveen: 0.15000000000000002, subcommunities: [1384], title: &#039;Spice World&#039;, tmdbId: &#039;6116&#039;, url: &#039;https://themoviedb.org/movie/6116&#039;, year: 1997}), similarity: 1.0}, {node: (_6412:Movie {actor_name: &#039;Vinessa Shaw&#039;, actorsList: [&#039;Kathleen Quinlan&#039;, &#039;Aaron Stanford&#039;, &#039;Emilie de Ravin&#039;, &#039;Vinessa Shaw&#039;], budget: 15000000, communities: 6393, community: 6393, countries: [&#039;USA&#039;, &#039; France&#039;], directorList: [&#039;Alexandre Aja&#039;, &#039;Alexandre Aja&#039;, &#039;Alexandre Aja&#039;, &#039;Alexandre Aja&#039;], director_name: &#039;Alexandre Aja&#039;, imdbId: &#039;0454841&#039;, imdbRating: 6.4, imdbVotes: 126256, lable_prop: 6412, languages: [&#039;English&#039;], louva: [6393], louvain: 6393, `louvain-2`: 6393, lpa: 6412, modularityOptimization: 6393, movieId: &#039;44397&#039;, p_ratio: 4, pagerank: 0.15000000000000002, pb_ratio: 4, plot: &#039;A suburban American family is being stalked by a group of psychotic people who live in the desert, far away from civilization.&#039;, poster: &#039;https://image.tmdb.org/t/p/w440_and_h660_face/qj4C2c96T1n3YnYxFG5l5bSTKbM.jpg&#039;, profit: 54623713, profitmargin: 4, released: &#039;2006-03-10&#039;, revenue: 69623713, runtime: 107, sharveen: 0.15000000000000002, subcommunities: [6393], title: &#039;Hills Have Eyes, The&#039;, tmdbId: &#039;9792&#039;, url: &#039;https://themoviedb.org/movie/9792&#039;, year: 2006}), similarity: 1.0}, {node: (_1860:Movie {actor_name: &#039;Matthew Lawrence&#039;, actorsList: [&#039;Debbie Harry&#039;, &#039;David Forrester&#039;, &#039;Christian Slater&#039;, &#039;Matthew Lawrence&#039;], budget: 3500000, communities: 1841, community: 1841, countries: [&#039;USA&#039;], directorList: [&#039;John Harrison&#039;, &#039;John Harrison&#039;, &#039;John Harrison&#039;, &#039;John Harrison&#039;], director_name: &#039;John Harrison&#039;, imdbId: &#039;0100740&#039;, imdbRating: 6.2, imdbVotes: 10418, lable_prop: 1860, languages: [&#039;English&#039;], louva: [1841], louvain: 1841, `louvain-2`: 1841, lpa: 1860, modularityOptimization: 1841, movieId: &#039;2327&#039;, p_ratio: 4, pagerank: 0.15000000000000002, pb_ratio: 4, plot: &#039;In anthology style, a child tells three stories of horror to keep from being eaten by a witch.&#039;, poster: &#039;https://image.tmdb.org/t/p/w440_and_h660_face/t5BeYGF6qhq1oSvrBwoy9Nbb0rE.jpg&#039;, profit: 12824573, profitmargin: 4, released: &#039;1990-05-04&#039;, revenue: 16324573, runtime: 93, sharveen: 0.15000000000000002, subcommunities: [1841], title: &#039;Tales from the Darkside: The Movie&#039;, tmdbId: &#039;20701&#039;, url: &#039;https://themoviedb.org/movie/20701&#039;, year: 1990}), similarity: 1.0}, {node: (_4180:Movie {actor_name: &#039;Beyonc\\u00e9 Knowles&#039;, actorsList: [&#039;Seth Green&#039;, &#039;Michael York&#039;, &#039;Mike Myers&#039;, &#039;Beyonc\\u00e9 Knowles&#039;], budget: 63000000, communities: 4161, community: 4161, countries: [&#039;USA&#039;], directorList: [&#039;Jay Roach&#039;, &#039;Jay Roach&#039;, &#039;Jay Roach&#039;, &#039;Jay Roach&#039;], director_name: &#039;Jay Roach&#039;, imdbId: &#039;0295178&#039;, imdbRating: 6.2, imdbVotes: 158815, lable_prop: 4180, languages: [&#039;English&#039;, &#039; Japanese&#039;, &#039; German&#039;, &#039; French&#039;], louva: [4161], louvain: 4161, `louvain-2`: 4161, lpa: 4180, modularityOptimization: 4161, movieId: &#039;5481&#039;, p_ratio: 4, pagerank: 0.15000000000000002, pb_ratio: 4, plot: &#039;Upon learning that his father has been kidnapped, Austin Powers must travel to 1975 and defeat the aptly named villain Goldmember - who is working with Dr. Evil.&#039;, poster: &#039;https://image.tmdb.org/t/p/w440_and_h660_face/c4Sus7BvVQM6i9M3Cr0U8Vw0L9f.jpg&#039;, profit: 233655431, profitmargin: 4, released: &#039;2002-07-26&#039;, revenue: 296655431, runtime: 94, sharveen: 0.15000000000000002, subcommunities: [4161], title: &#039;Austin Powers in Goldmember&#039;, tmdbId: &#039;818&#039;, url: &#039;https://themoviedb.org/movie/818&#039;, year: 2002}), similarity: 1.0}, {node: (_7091:Movie {actor_name: &#039;Jada Pinkett Smith&#039;, actorsList: [&#039;David Schwimmer&#039;, &#039;Ben Stiller&#039;, &#039;Chris Rock&#039;, &#039;Jada Pinkett Smith&#039;, &#039;David Schwimmer&#039;, &#039;Ben Stiller&#039;, &#039;Chris Rock&#039;, &#039;Jada Pinkett Smith&#039;], budget: 150000000, communities: 7072, community: 7072, countries: [&#039;USA&#039;], directorList: [&#039;Tom McGrath&#039;, &#039;Tom McGrath&#039;, &#039;Tom McGrath&#039;, &#039;Tom McGrath&#039;, &#039;Eric Darnell&#039;, &#039;Eric Darnell&#039;, &#039;Eric Darnell&#039;, &#039;Eric Darnell&#039;], director_name: &#039;Eric Darnell&#039;, imdbId: &#039;0479952&#039;, imdbRating: 6.7, imdbVotes: 139337, lable_prop: 7091, languages: [&#039;English&#039;, &#039; Italian&#039;], louva: [7072], louvain: 7072, `louvain-2`: 7072, lpa: 7091, modularityOptimization: 7072, movieId: &#039;62999&#039;, p_ratio: 4, pagerank: 0.15000000000000002, pb_ratio: 4, plot: &#039;The animals try to fly back to New York City, but crash-land on an African wildlife refuge, where Alex is reunited with his parents.&#039;, poster: &#039;https://image.tmdb.org/t/p/w440_and_h660_face/9lfNdHVfd37R1GszeH5ZcWzkb14.jpg&#039;, profit: 453900354, profitmargin: 4, released: &#039;2008-11-07&#039;, revenue: 603900354, runtime: 89, sharveen: 0.15000000000000002, subcommunities: [7072], title: &#039;Madagascar: Escape 2 Africa&#039;, tmdbId: &#039;10527&#039;, url: &#039;https://themoviedb.org/movie/10527&#039;, year: 2008}), similarity: 1.0}, {node: (_557:Movie {actor_name: &#039;Charlotte Chatton&#039;, actorsList: [&#039;Bruce Ramsay&#039;, &#039;Valentina Vargas&#039;, &#039;Doug Bradley&#039;, &#039;Charlotte Chatton&#039;, &#039;Bruce Ramsay&#039;, &#039;Valentina Vargas&#039;, &#039;Doug Bradley&#039;, &#039;Charlotte Chatton&#039;], budget: 4000000, communities: 538, community: 538, countries: [&#039;USA&#039;], directorList: [&#039;Alan Smithee&#039;, &#039;Alan Smithee&#039;, &#039;Alan Smithee&#039;, &#039;Alan Smithee&#039;, &#039;Kevin Yagher&#039;, &#039;Kevin Yagher&#039;, &#039;Kevin Yagher&#039;, &#039;Kevin Yagher&#039;], director_name: &#039;Kevin Yagher&#039;, imdbId: &#039;0116514&#039;, imdbRating: 5.0, imdbVotes: 13772, lable_prop: 557, languages: [&#039;English&#039;], louva: [538], louvain: 538, `louvain-2`: 538, lpa: 557, modularityOptimization: 538, movieId: &#039;611&#039;, p_ratio: 4, pagerank: 0.15000000000000002, pb_ratio: 4, plot: &#039;In the 22nd century, a scientist attempts to right the wrong his ancestor created: the puzzle box that opens the gates of Hell and unleashes Pinhead and his Cenobite legions.&#039;, poster: &#039;https://image.tmdb.org/t/p/w440_and_h660_face/3iDJa6KyO6C2rPrWHhjzqToDxoW.jpg&#039;, profit: 12675000, profitmargin: 4, released: &#039;1996-03-08&#039;, revenue: 16675000, runtime: 85, sharveen: 0.15000000000000002, subcommunities: [538], title: &#039;Hellraiser: Bloodline&#039;, tmdbId: &#039;8766&#039;, url: &#039;https://themoviedb.org/movie/8766&#039;, year: 1996}), similarity: 1.0}, {node: (_3453:Movie {actor_name: &#039;Anne Ramsey&#039;, actorsList: [&#039;Danny DeVito&#039;, &#039;Kim Greist&#039;, &#039;Billy Crystal&#039;, &#039;Anne Ramsey&#039;], budget: 14000000, communities: 3434, community: 3434, countries: [&#039;USA&#039;], directorList: [&#039;Danny DeVito&#039;, &#039;Danny DeVito&#039;, &#039;Danny DeVito&#039;, &#039;Danny DeVito&#039;], director_name: &#039;Danny DeVito&#039;, imdbId: &#039;0094142&#039;, imdbRating: 6.2, imdbVotes: 26541, lable_prop: 3453, languages: [&#039;English&#039;], louva: [3434], louvain: 3434, `louvain-2`: 3434, lpa: 3453, modularityOptimization: 3434, movieId: &#039;4333&#039;, p_ratio: 4, pagerank: 0.15000000000000002, pb_ratio: 4, plot: &quot;A bitter ex-husband. A put upon momma&#039;s boy. Both want their respective spouse and mother dead, but who will pull it off?&quot;, poster: &#039;https://image.tmdb.org/t/p/w440_and_h660_face/Ap0Wo7hNS6WW1wdPOKYM3SNpewY.jpg&#039;, profit: 43915972, profitmargin: 4, released: &#039;1987-12-11&#039;, revenue: 57915972, runtime: 88, sharveen: 0.15000000000000002, subcommunities: [3434], title: &#039;Throw Momma from the Train&#039;, tmdbId: &#039;11896&#039;, url: &#039;https://themoviedb.org/movie/11896&#039;, year: 1987}), similarity: 1.0}, {node: (_2308:Movie {actor_name: &#039;Alex Weir&#039;, actorsList: [&#039;Steven Scales&#039;, &#039;Lynn Mabry&#039;, &#039;Bernie Worrell&#039;, &#039;Alex Weir&#039;], budget: 1200000, communities: 2289, community: 2289, countries: [&#039;USA&#039;], directorList: [&#039;Jonathan Demme&#039;, &#039;Jonathan Demme&#039;, &#039;Jonathan Demme&#039;, &#039;Jonathan Demme&#039;], director_name: &#039;Jonathan Demme&#039;, imdbId: &#039;0088178&#039;, imdbRating: 8.5, imdbVotes: 8010, lable_prop: 2308, languages: [&#039;English&#039;], louva: [2289], louvain: 2289, `louvain-2`: 2289, lpa: 2308, modularityOptimization: 2289, movieId: &#039;2859&#039;, p_ratio: 4, pagerank: 0.15000000000000002, pb_ratio: 4, plot: &#039;An innovative concert movie for the rock group The Talking Heads.&#039;, poster: &#039;https://image.tmdb.org/t/p/w440_and_h660_face/uFMsMsk1NGo0QWs9IHknZVHSe4O.jpg&#039;, profit: 3778922, profitmargin: 4, released: &#039;1984-11-16&#039;, revenue: 4978922, runtime: 88, sharveen: 0.15000000000000002, subcommunities: [2289], title: &#039;Stop Making Sense&#039;, tmdbId: &#039;24128&#039;, url: &#039;https://themoviedb.org/movie/24128&#039;, year: 1984}), similarity: 1.0}, {node: (_5655:Movie {actor_name: &#039;Bill Fagerbakke&#039;, actorsList: [&#039;Tom Kenny&#039;, &#039;Clancy Brown&#039;, &#039;Rodger Bumpass&#039;, &#039;Bill Fagerbakke&#039;], budget: 30000000, communities: 5636, community: 5636, countries: [&#039;USA&#039;], directorList: [&#039;Stephen Hillenburg&#039;, &#039;Stephen Hillenburg&#039;, &#039;Stephen Hillenburg&#039;, &#039;Stephen Hillenburg&#039;], director_name: &#039;Stephen Hillenburg&#039;, imdbId: &#039;0345950&#039;, imdbRating: 7.0, imdbVotes: 56499, lable_prop: 5655, languages: [&#039;English&#039;], louva: [5636], louvain: 5636, `louvain-2`: 5636, lpa: 5655, modularityOptimization: 5636, movieId: &#039;8974&#039;, p_ratio: 4, pagerank: 0.15000000000000002, pb_ratio: 4, plot: &quot;SpongeBob SquarePants takes leave from the town of Bikini Bottom in order to track down King Neptune&#039;s stolen crown.&quot;, poster: &#039;https://image.tmdb.org/t/p/w440_and_h660_face/nLvLlyODv0StiSYDeCTE5KnN0Gi.jpg&#039;, profit: 110161792, profitmargin: 4, released: &#039;2004-11-19&#039;, revenue: 140161792, runtime: 87, sharveen: 0.15000000000000002, subcommunities: [5636], title: &#039;SpongeBob SquarePants Movie, The&#039;, tmdbId: &#039;11836&#039;, url: &#039;https://themoviedb.org/movie/11836&#039;, year: 2004}), similarity: 1.0}]</td></tr><tr><td style=\"text-align:left\">(_7:Movie {actor_name: &#039;Sophia Loren&#039;, actorsList: [&#039;Walter Matthau&#039;, &#039;Ann-Margret&#039;, &#039;Jack Lemmon&#039;, &#039;Sophia Loren&#039;], communities: 2, community: 2, countries: [&#039;USA&#039;], directorList: [&#039;Howard Deutch&#039;, &#039;Howard Deutch&#039;, &#039;Howard Deutch&#039;, &#039;Howard Deutch&#039;], director_name: &#039;Howard Deutch&#039;, imdbId: &#039;0113228&#039;, imdbRating: 6.6, imdbVotes: 18615, lable_prop: 7, languages: [&#039;English&#039;], louva: [2], louvain: 2, `louvain-2`: 2, lpa: 7, modularityOptimization: 2, movieId: &#039;3&#039;, pagerank: 0.15000000000000002, plot: &quot;John and Max resolve to save their beloved bait shop from turning into an Italian restaurant, just as its new female owner catches Max&#039;s attention.&quot;, poster: &#039;https://image.tmdb.org/t/p/w440_and_h660_face/1FSXpj5e8l4KH6nVFO5SPUeraOt.jpg&#039;, released: &#039;1995-12-22&#039;, runtime: 101, sharveen: 0.15000000000000002, subcommunities: [2], title: &#039;Grumpier Old Men&#039;, tmdbId: &#039;15602&#039;, url: &#039;https://themoviedb.org/movie/15602&#039;, year: 1995})</td><td style=\"text-align:left\">[{node: (_8135:Movie {actor_name: &#039;Virginia Nebab&#039;, actorsList: [&#039;David Siegel&#039;, &#039;Jackie Siegel&#039;, &#039;Virginia Nebab&#039;], communities: 8115, community: 8115, countries: [&#039;USA&#039;, &#039; Netherlands&#039;, &#039; UK&#039;, &#039; Denmark&#039;], directorList: [&#039;Lauren Greenfield&#039;, &#039;Lauren Greenfield&#039;, &#039;Lauren Greenfield&#039;], director_name: &#039;Lauren Greenfield&#039;, imdbId: &#039;2125666&#039;, imdbRating: 7.1, imdbVotes: 10406, lable_prop: 8135, languages: [&#039;English&#039;], louva: [8115], louvain: 8115, `louvain-2`: 8115, lpa: 8135, modularityOptimization: 8115, movieId: &#039;96150&#039;, pagerank: 0.15000000000000002, plot: &#039;A documentary that follows a billionaire couple as they begin construction on a mansion inspired by Versailles. During the next two years, their empire, fueled by the real estate bubble and cheap money, falters due to the economic crisis.&#039;, poster: &#039;https://image.tmdb.org/t/p/w440_and_h660_face/9VxMIPT3nGusKhr8084m26vdeTj.jpg&#039;, released: &#039;2014-08-16&#039;, revenue: 714544, runtime: 100, sharveen: 0.15000000000000002, subcommunities: [8115], title: &#039;Queen of Versailles, The&#039;, tmdbId: &#039;84327&#039;, url: &#039;https://themoviedb.org/movie/84327&#039;, year: 2012}), similarity: 1.0}, {node: (_7022:Movie {actor_name: &#039;Ben Browder&#039;, actorsList: [&#039;Michael Shanks&#039;, &#039;Christopher Judge&#039;, &#039;Amanda Tapping&#039;, &#039;Ben Browder&#039;], budget: 7000000, communities: 7003, community: 7003, countries: [&#039;Canada&#039;, &#039; USA&#039;], directorList: [&#039;Martin Wood&#039;, &#039;Martin Wood&#039;, &#039;Martin Wood&#039;, &#039;Martin Wood&#039;], director_name: &#039;Martin Wood&#039;, imdbId: &#039;0929629&#039;, imdbRating: 7.6, imdbVotes: 16868, lable_prop: 7022, languages: [&#039;English&#039;], louva: [7003], louvain: 7003, `louvain-2`: 7003, lpa: 7022, modularityOptimization: 7003, movieId: &#039;60674&#039;, pagerank: 0.15000000000000002, plot: &quot;Ba&#039;al travels back in time and prevents the Stargate program from being started. SG-1 must somehow restore history.&quot;, poster: &#039;https://image.tmdb.org/t/p/w440_and_h660_face/exCFVhFQWnVbGPbr2JeTQwK7Mgw.jpg&#039;, released: &#039;2008-07-29&#039;, runtime: 98, sharveen: 0.15000000000000002, subcommunities: [7003], title: &#039;Stargate: Continuum&#039;, tmdbId: &#039;12914&#039;, url: &#039;https://themoviedb.org/movie/12914&#039;, year: 2008}), similarity: 1.0}, {node: (_4525:Movie {actor_name: &#039;John Boylan&#039;, actorsList: [&#039;Lucinda Jenney&#039;, &#039;Edward Furlong&#039;, &#039;Jeff Bridges&#039;, &#039;John Boylan&#039;], communities: 4506, community: 4506, countries: [&#039;USA&#039;], directorList: [&#039;Martin Bell&#039;, &#039;Martin Bell&#039;, &#039;Martin Bell&#039;, &#039;Martin Bell&#039;], director_name: &#039;Martin Bell&#039;, imdbId: &#039;0103670&#039;, imdbRating: 6.8, imdbVotes: 2361, lable_prop: 4525, languages: [&#039;English&#039;], louva: [4506], louvain: 4506, `louvain-2`: 4506, lpa: 4525, modularityOptimization: 4506, movieId: &#039;6198&#039;, pagerank: 0.15000000000000002, plot: &#039;Jack is now out of jail and he meets Nick, his adolescent son. Their relationship will be complicated, because Jack has a problem with alcohol. But his love for Nick will help him to get over the past and reach his dreams.&#039;, poster: &#039;https://image.tmdb.org/t/p/w440_and_h660_face/aoMgpDCbITt82rngUyA9WwIBOew.jpg&#039;, released: &#039;1993-05-07&#039;, runtime: 113, sharveen: 0.15000000000000002, subcommunities: [4506], title: &#039;American Heart&#039;, tmdbId: &#039;7015&#039;, url: &#039;https://themoviedb.org/movie/7015&#039;, year: 1992}), similarity: 1.0}, {node: (_3008:Movie {actor_name: &#039;Michael Kane&#039;, actorsList: [&#039;Kirk Douglas&#039;, &#039;Gena Rowlands&#039;, &#039;Walter Matthau&#039;, &#039;Michael Kane&#039;, &#039;Kirk Douglas&#039;, &#039;Gena Rowlands&#039;, &#039;Walter Matthau&#039;, &#039;Michael Kane&#039;], communities: 2989, community: 2989, countries: [&#039;USA&#039;], directorList: [&#039;David Miller&#039;, &#039;David Miller&#039;, &#039;David Miller&#039;, &#039;David Miller&#039;, &#039;David Miller&#039;, &#039;David Miller&#039;, &#039;David Miller&#039;, &#039;David Miller&#039;], director_name: &#039;David Miller&#039;, imdbId: &#039;0056195&#039;, imdbRating: 7.7, imdbVotes: 5519, lable_prop: 3008, languages: [&#039;English&#039;, &#039; Spanish&#039;], louva: [2989], louvain: 2989, `louvain-2`: 2989, lpa: 3008, modularityOptimization: 2989, movieId: &#039;3737&#039;, pagerank: 0.15000000000000002, plot: &#039;A fiercely independent cowboy arranges to have himself locked up in jail in order to then escape with an old friend who has been sentenced to the penitentiary.&#039;, poster: &#039;https://image.tmdb.org/t/p/w440_and_h660_face/h5gaDp7FurCVfUCIceZxcP3eaXG.jpg&#039;, released: &#039;1962-06-14&#039;, runtime: 107, sharveen: 0.15000000000000002, subcommunities: [2989], title: &#039;Lonely Are the Brave&#039;, tmdbId: &#039;43002&#039;, url: &#039;https://themoviedb.org/movie/43002&#039;, year: 1962}), similarity: 1.0}, {node: (_2691:Movie {actor_name: &#039;Tor Johnson&#039;, actorsList: [&#039;Tony McCoy&#039;, &#039;Loretta King&#039;, &#039;Bela Lugosi&#039;, &#039;Tor Johnson&#039;], budget: 70000, communities: 2672, community: 2672, countries: [&#039;USA&#039;], directorList: [&#039;Edward D. Wood Jr.&#039;, &#039;Edward D. Wood Jr.&#039;, &#039;Edward D. Wood Jr.&#039;, &#039;Edward D. Wood Jr.&#039;], director_name: &#039;Edward D. Wood Jr.&#039;, imdbId: &#039;0047898&#039;, imdbRating: 4.1, imdbVotes: 5209, lable_prop: 2691, languages: [&#039;English&#039;], louva: [2672], louvain: 2672, `louvain-2`: 2672, lpa: 2691, modularityOptimization: 2672, movieId: &#039;3340&#039;, pagerank: 0.15000000000000002, plot: &#039;A mad doctor attempts to create atomic supermen.&#039;, poster: &#039;https://image.tmdb.org/t/p/w440_and_h660_face/aSptrb8D0e5tEdpFbZLQSiQThbE.jpg&#039;, released: &#039;1956-02-01&#039;, runtime: 69, sharveen: 0.15000000000000002, subcommunities: [2672], title: &#039;Bride of the Monster&#039;, tmdbId: &#039;36489&#039;, url: &#039;https://themoviedb.org/movie/36489&#039;, year: 1955}), similarity: 1.0}, {node: (_8729:Movie {actor_name: &#039;Vivian Nathan&#039;, actorsList: [&#039;Burt Lancaster&#039;, &#039;Dina Merrill&#039;, &#039;Edward Andrews&#039;, &#039;Vivian Nathan&#039;], communities: 8709, community: 8709, countries: [&#039;USA&#039;], directorList: [&#039;John Frankenheimer&#039;, &#039;John Frankenheimer&#039;, &#039;John Frankenheimer&#039;, &#039;John Frankenheimer&#039;], director_name: &#039;John Frankenheimer&#039;, imdbId: &#039;0055633&#039;, imdbRating: 7.0, imdbVotes: 1354, lable_prop: 8729, languages: [&#039;English&#039;, &#039; Italian&#039;, &#039; Spanish&#039;], louva: [8709], louvain: 8709, `louvain-2`: 8709, lpa: 8729, modularityOptimization: 8709, movieId: &#039;116012&#039;, pagerank: 0.15000000000000002, plot: &quot;A district attorney investigates the racially charged case of three teenagers accused of the murder of a blind Puerto Rican boy. He begins to discover that the facts in the case aren&#039;t ...&quot;, poster: &#039;https://image.tmdb.org/t/p/w440_and_h660_face/86qn90JdeDGfvpOfO8WxTC1Gupk.jpg&#039;, released: &#039;1961-05-24&#039;, runtime: 103, sharveen: 0.15000000000000002, subcommunities: [8709], title: &#039;The Young Savages&#039;, tmdbId: &#039;86616&#039;, url: &#039;https://themoviedb.org/movie/86616&#039;, year: 1961}), similarity: 1.0}, {node: (_7550:Movie {actor_name: &#039;Geraldine Chaplin&#039;, actorsList: [&#039;Leonardo Sbaraglia&#039;, &#039;Bel\\u00e9n Fabra&#039;, &#039;Llum Barrera&#039;, &#039;Geraldine Chaplin&#039;], communities: 7531, community: 7531, countries: [&#039;Spain&#039;], directorList: [&#039;Christian Molina&#039;, &#039;Christian Molina&#039;, &#039;Christian Molina&#039;, &#039;Christian Molina&#039;], director_name: &#039;Christian Molina&#039;, imdbId: &#039;1111890&#039;, imdbRating: 5.8, imdbVotes: 7784, lable_prop: 7550, languages: [&#039;Spanish&#039;, &#039; French&#039;], louva: [7531], louvain: 7531, `louvain-2`: 7531, lpa: 7550, modularityOptimization: 7531, movieId: &#039;77810&#039;, pagerank: 0.15000000000000002, plot: &quot;A chronicle of the life of a middle-class French girl&#039;s sexual adventures, her then fall into prostitution, and her ultimate redemption.&quot;, poster: &#039;https://image.tmdb.org/t/p/w440_and_h660_face/yVYTeiFv7oQsSQF9OBRngg7ZqLg.jpg&#039;, released: &#039;2008-10-17&#039;, runtime: 102, sharveen: 0.15000000000000002, subcommunities: [7531], title: &#039;Diary of a Nymphomaniac (Diario de una Ninf\\u00f3mana)&#039;, tmdbId: &#039;19173&#039;, url: &#039;https://themoviedb.org/movie/19173&#039;, year: 2008}), similarity: 1.0}, {node: (_8176:Movie {actor_name: &#039;Laura Liddell&#039;, actorsList: [&#039;Shashi Kapoor&#039;, &#039;Felicity Kendal&#039;, &#039;Geoffrey Kendal&#039;, &#039;Laura Liddell&#039;], communities: 8156, community: 8156, countries: [&#039;USA&#039;], directorList: [&#039;James Ivory&#039;, &#039;James Ivory&#039;, &#039;James Ivory&#039;, &#039;James Ivory&#039;], director_name: &#039;James Ivory&#039;, imdbId: &#039;0059709&#039;, imdbRating: 7.0, imdbVotes: 450, lable_prop: 8176, languages: [&#039;English&#039;, &#039; Hindi&#039;], louva: [8156], louvain: 8156, `louvain-2`: 8156, lpa: 8176, modularityOptimization: 8156, movieId: &#039;97254&#039;, pagerank: 0.15000000000000002, plot: &#039;The story of a family troupe of English actors in India. They travel around the towns and villages giving performances of Shakespearean plays. Through their travels we see the changing face...&#039;, poster: &#039;https://image.tmdb.org/t/p/w440_and_h660_face/Mypbj6ccAFog4PttIfJGWV1zkv.jpg&#039;, released: &#039;1965-12-01&#039;, runtime: 120, sharveen: 0.15000000000000002, subcommunities: [8156], title: &#039;Shakespeare-Wallah&#039;, tmdbId: &#039;109600&#039;, url: &#039;https://themoviedb.org/movie/109600&#039;, year: 1965}), similarity: 1.0}, {node: (_8925:Movie {actor_name: &#039;Bashar Rahal&#039;, actorsList: [&#039;Dylan McDermott&#039;, &#039;Parker Sawyers&#039;, &#039;Royce Pierreson&#039;, &#039;Bashar Rahal&#039;], budget: 20000000, communities: 8905, community: 8905, countries: [&#039;USA&#039;, &#039; UK&#039;], directorList: [&#039; James McTeigue&#039;, &#039; James McTeigue&#039;, &#039; James McTeigue&#039;, &#039; James McTeigue&#039;], director_name: &#039; James McTeigue&#039;, imdbId: &#039;3247714&#039;, imdbRating: 5.6, imdbVotes: 19578, lable_prop: 8925, languages: [&#039;English&#039;], louva: [8905], louvain: 8905, `louvain-2`: 8905, lpa: 8925, modularityOptimization: 8905, movieId: &#039;134246&#039;, pagerank: 0.15000000000000002, plot: &#039;A Foreign Service Officer in London tries to prevent a terrorist attack set to hit New York, but is forced to go on the run when she is framed for crimes she did not commit.&#039;, poster: &#039;https://image.tmdb.org/t/p/w440_and_h660_face/npyCpfYyYknFoY2iJPyfqp70FVX.jpg&#039;, released: &#039;2015-05-29&#039;, runtime: 96, sharveen: 0.15000000000000002, subcommunities: [8905], title: &#039;Survivor&#039;, tmdbId: &#039;334074&#039;, url: &#039;https://themoviedb.org/movie/334074&#039;, year: 2015}), similarity: 1.0}, {node: (_2437:Movie {actor_name: &#039;Anne Yernaux&#039;, actorsList: [&#039;Fabrizio Rongione&#039;, &#039;\\u00c9milie Dequenne&#039;, &#039;Olivier Gourmet&#039;, &#039;Anne Yernaux&#039;, &#039;Fabrizio Rongione&#039;, &#039;\\u00c9milie Dequenne&#039;, &#039;Olivier Gourmet&#039;, &#039;Anne Yernaux&#039;], communities: 2418, community: 2418, countries: [&#039;France&#039;, &#039; Belgium&#039;], directorList: [&#039; Jean-Pierre Dardenne&#039;, &#039; Jean-Pierre Dardenne&#039;, &#039; Jean-Pierre Dardenne&#039;, &#039; Jean-Pierre Dardenne&#039;, &#039; Luc Dardenne&#039;, &#039; Luc Dardenne&#039;, &#039; Luc Dardenne&#039;, &#039; Luc Dardenne&#039;], director_name: &#039; Luc Dardenne&#039;, imdbId: &#039;0200071&#039;, imdbRating: 7.6, imdbVotes: 8757, lable_prop: 2437, languages: [&#039;French&#039;], louva: [2418], louvain: 2418, `louvain-2`: 2418, lpa: 2437, modularityOptimization: 2418, movieId: &#039;3010&#039;, pagerank: 0.15000000000000002, plot: &#039;Young and impulsive Rosetta lives with her alcoholic mother and, moved by despair, she will do anything to maintain a job.&#039;, poster: &#039;https://image.tmdb.org/t/p/w440_and_h660_face/4j1JA5eJHwYbI53RVGoAMIwCH9u.jpg&#039;, released: &#039;1999-09-22&#039;, revenue: 266665, runtime: 95, sharveen: 0.15000000000000002, subcommunities: [2418], title: &#039;Rosetta&#039;, tmdbId: &#039;11489&#039;, url: &#039;https://themoviedb.org/movie/11489&#039;, year: 1999}), similarity: 1.0}]</td></tr></table>"
            ],
            "text/plain": [
              " from                                                                                                                                                                                                                                                                                                                                                                                                                                                                                                                                                                                                                                                                                                                                                                                                                                                                                                                                                                                                                                                                                       | to                                                                                                                                                                                                                                                                                                                                                                                                                                                                                                                                                                                                                                                                                                                                                                                                                                                                                                                                                                                                                                                                                                                                                                                                                                                                                                                                                                                                                                                                                                                                                                                                                                                                                                                                                                                                                                                                                                                                                                                                                                                                                                                                                                                                                                                                                                                                                                                                                                                                                                                                                                                                                                                                                                                                                                                                                                                                                                                                                                                                                                                                                                                                                                                                                                                                                                                                                                                                                                                                                                                                                                                                                                                                                                                                                                                                                                                                                                                                                                                                                                                                                                                                                                                                                                                                                                                                                                                                                                                                                                                                                                                                                                                                                                                                                                                                                                                                                                                                                                                                                                                                                                                                                                                                                                                                                                                                                                                                                                                                                                                                                                                                                                                                                                                                                                                                                                                                                                                                                                                                                                                                                                                                                                                                                                                                                                                                                                                                                                                                                                                                                                                                                                                                                                                                                                                                                                                                                                                                                                                                                                                                                                                                                                                                                                                                                                                                                                                                                                                                                                                                                                                                                                                                                                                                                                                                                                                                                                                                                                                                                                                                                                                                                                                                                                                                                                                                                                                                                                                                                                                                                                                                                                                                                                                                                                                                                                                                                                                                                                                                                                                                                                                                                                                                                                                                                                                                                                                                                                                                                                                                                                                                                                                                                                                                                                                                                                                                                                                                                                                                                                                                                                                                                                                                                                                                                                                                                                                                                                                                                                                                                                                                                                                                                                                                                                                                                                                                                                                                                                                                                                                                                                                                                                                                                                                                                                                                                                                                                                                                                                                                                                                                                                                                                                                                                                             \n",
              "--------------------------------------------------------------------------------------------------------------------------------------------------------------------------------------------------------------------------------------------------------------------------------------------------------------------------------------------------------------------------------------------------------------------------------------------------------------------------------------------------------------------------------------------------------------------------------------------------------------------------------------------------------------------------------------------------------------------------------------------------------------------------------------------------------------------------------------------------------------------------------------------------------------------------------------------------------------------------------------------------------------------------------------------------------------------------------------------|--------------------------------------------------------------------------------------------------------------------------------------------------------------------------------------------------------------------------------------------------------------------------------------------------------------------------------------------------------------------------------------------------------------------------------------------------------------------------------------------------------------------------------------------------------------------------------------------------------------------------------------------------------------------------------------------------------------------------------------------------------------------------------------------------------------------------------------------------------------------------------------------------------------------------------------------------------------------------------------------------------------------------------------------------------------------------------------------------------------------------------------------------------------------------------------------------------------------------------------------------------------------------------------------------------------------------------------------------------------------------------------------------------------------------------------------------------------------------------------------------------------------------------------------------------------------------------------------------------------------------------------------------------------------------------------------------------------------------------------------------------------------------------------------------------------------------------------------------------------------------------------------------------------------------------------------------------------------------------------------------------------------------------------------------------------------------------------------------------------------------------------------------------------------------------------------------------------------------------------------------------------------------------------------------------------------------------------------------------------------------------------------------------------------------------------------------------------------------------------------------------------------------------------------------------------------------------------------------------------------------------------------------------------------------------------------------------------------------------------------------------------------------------------------------------------------------------------------------------------------------------------------------------------------------------------------------------------------------------------------------------------------------------------------------------------------------------------------------------------------------------------------------------------------------------------------------------------------------------------------------------------------------------------------------------------------------------------------------------------------------------------------------------------------------------------------------------------------------------------------------------------------------------------------------------------------------------------------------------------------------------------------------------------------------------------------------------------------------------------------------------------------------------------------------------------------------------------------------------------------------------------------------------------------------------------------------------------------------------------------------------------------------------------------------------------------------------------------------------------------------------------------------------------------------------------------------------------------------------------------------------------------------------------------------------------------------------------------------------------------------------------------------------------------------------------------------------------------------------------------------------------------------------------------------------------------------------------------------------------------------------------------------------------------------------------------------------------------------------------------------------------------------------------------------------------------------------------------------------------------------------------------------------------------------------------------------------------------------------------------------------------------------------------------------------------------------------------------------------------------------------------------------------------------------------------------------------------------------------------------------------------------------------------------------------------------------------------------------------------------------------------------------------------------------------------------------------------------------------------------------------------------------------------------------------------------------------------------------------------------------------------------------------------------------------------------------------------------------------------------------------------------------------------------------------------------------------------------------------------------------------------------------------------------------------------------------------------------------------------------------------------------------------------------------------------------------------------------------------------------------------------------------------------------------------------------------------------------------------------------------------------------------------------------------------------------------------------------------------------------------------------------------------------------------------------------------------------------------------------------------------------------------------------------------------------------------------------------------------------------------------------------------------------------------------------------------------------------------------------------------------------------------------------------------------------------------------------------------------------------------------------------------------------------------------------------------------------------------------------------------------------------------------------------------------------------------------------------------------------------------------------------------------------------------------------------------------------------------------------------------------------------------------------------------------------------------------------------------------------------------------------------------------------------------------------------------------------------------------------------------------------------------------------------------------------------------------------------------------------------------------------------------------------------------------------------------------------------------------------------------------------------------------------------------------------------------------------------------------------------------------------------------------------------------------------------------------------------------------------------------------------------------------------------------------------------------------------------------------------------------------------------------------------------------------------------------------------------------------------------------------------------------------------------------------------------------------------------------------------------------------------------------------------------------------------------------------------------------------------------------------------------------------------------------------------------------------------------------------------------------------------------------------------------------------------------------------------------------------------------------------------------------------------------------------------------------------------------------------------------------------------------------------------------------------------------------------------------------------------------------------------------------------------------------------------------------------------------------------------------------------------------------------------------------------------------------------------------------------------------------------------------------------------------------------------------------------------------------------------------------------------------------------------------------------------------------------------------------------------------------------------------------------------------------------------------------------------------------------------------------------------------------------------------------------------------------------------------------------------------------------------------------------------------------------------------------------------------------------------------------------------------------------------------------------------------------------------------------------------------------------------------------------------------------------------------------------------------------------------------------------------------------------------------------------------------------------------------------------------------------------------------------------------------------------------------------------------------------------------------------------------------------------------------------------------------------------------------------------------------------------------------------------------------------------------------------------------------------------------------------------------------------------------------------------------------------------------------------------------------------------------------------------------------------------------------------------------------------------------------------------------------------------------------------------------------------------------------------------------------------------------------------------------------------------------------------------------------------------------------------------------------------------------------------------------------------------------------------------------------------------------------------------------------------------------------------------------------------------------------------------------------------------------------------------------------------------------------------------------------------------------------------------------------------------------------------------------------------------------------------------------------------------------------------------------------------------------------------------------------------------------------------------\n",
              " (_0:Movie {actor_name: 'Don Rickles', actorsList: ['Jim Varney', 'Tim Allen', 'Tom Hanks', 'Don Rickles'], budget: 30000000, communities: 0, community: 0, countries: ['USA'], directorList: ['John Lasseter', 'John Lasseter', 'John Lasseter', 'John Lasseter'], director_name: 'John Lasseter', imdbId: '0114709', imdbRating: 8.3, imdbVotes: 591836, lable_prop: 0, languages: ['English'], louva: [0], louvain: 0, `louvain-2`: 0, lpa: 0, modularityOptimization: 0, movieId: '1', p_ratio: 12, pagerank: 0.15000000000000002, pb_ratio: 12, plot: \"A cowboy doll is profoundly threatened and jealous when a new spaceman figure supplants him as top toy in a boy's room.\", poster: 'https://image.tmdb.org/t/p/w440_and_h660_face/uXDfjJbdP4ijW5hWSBrPrlKpxab.jpg', profit: 343554033, profitmargin: 12, released: '1995-11-22', revenue: 373554033, runtime: 81, sharveen: 0.15000000000000002, subcommunities: [0], title: 'Toy Story', tmdbId: '862', url: 'https://themoviedb.org/movie/862', year: 1995})                                                                   | [{node: (_1634:Movie {actor_name: 'Matt Frewer', actorsList: ['Rick Moranis', 'Kristine Sutherland', 'Marcia Strassman', 'Matt Frewer'], budget: 18000000, communities: 1615, community: 1615, countries: ['USA', ' Mexico'], directorList: ['Joe Johnston', 'Joe Johnston', 'Joe Johnston', 'Joe Johnston'], director_name: 'Joe Johnston', imdbId: '0097523', imdbRating: 6.3, imdbVotes: 102360, lable_prop: 1634, languages: ['English'], louva: [1615], louvain: 1615, `louvain-2`: 1615, lpa: 1634, modularityOptimization: 1615, movieId: '2054', p_ratio: 12, pagerank: 0.15000000000000002, pb_ratio: 12, plot: 'The scientist father of a teenage girl and boy accidentally shrinks his and two other neighborhood teens to the size of insects. Now the teens must fight diminutive dangers as the father searches for them.', poster: 'https://image.tmdb.org/t/p/w440_and_h660_face/omQOzahi2NIeiYznNxHFDvNbvo6.jpg', profit: 204724172, profitmargin: 12, released: '1989-06-23', revenue: 222724172, runtime: 93, sharveen: 0.15000000000000002, subcommunities: [1615], title: 'Honey, I Shrunk the Kids', tmdbId: '9354', url: 'https://themoviedb.org/movie/9354', year: 1989}), similarity: 1.0}, {node: (_981:Movie {actor_name: 'Patrick Magee', actorsList: ['Michael Bates', 'Warren Clarke', 'Malcolm McDowell', 'Patrick Magee'], budget: 2200000, communities: 962, community: 962, countries: ['UK', ' USA'], directorList: ['Stanley Kubrick', 'Stanley Kubrick', 'Stanley Kubrick', 'Stanley Kubrick'], director_name: 'Stanley Kubrick', imdbId: '0066921', imdbRating: 8.4, imdbVotes: 534547, lable_prop: 981, languages: ['English'], louva: [962], louvain: 962, `louvain-2`: 962, lpa: 981, modularityOptimization: 962, movieId: '1206', p_ratio: 12, pagerank: 0.15000000000000002, pb_ratio: 12, plot: \"In future Britain, charismatic delinquent Alex DeLarge is jailed and volunteers for an experimental aversion therapy developed by the government in an effort to solve society's crime problem - but not all goes according to plan.\", poster: 'https://image.tmdb.org/t/p/w440_and_h660_face/4sHeTAp65WrSSuc05nRBKddhBxO.jpg', profit: 24389000, profitmargin: 12, released: '1972-02-02', revenue: 26589000, runtime: 136, sharveen: 0.15000000000000002, subcommunities: [962], title: 'Clockwork Orange, A', tmdbId: '185', url: 'https://themoviedb.org/movie/185', year: 1971}), similarity: 1.0}, {node: (_1938:Movie {actor_name: 'Carl Weathers', actorsList: ['Sylvester Stallone', 'Talia Shire', 'Burt Young', 'Carl Weathers'], budget: 7000000, communities: 1919, community: 1919, countries: ['USA'], directorList: ['Sylvester Stallone', 'Sylvester Stallone', 'Sylvester Stallone', 'Sylvester Stallone'], director_name: 'Sylvester Stallone', imdbId: '0079817', imdbRating: 7.2, imdbVotes: 131153, lable_prop: 1938, languages: ['English', ' Italian'], louva: [1919], louvain: 1919, `louvain-2`: 1919, lpa: 1938, modularityOptimization: 1919, movieId: '2409', p_ratio: 12, pagerank: 0.15000000000000002, pb_ratio: 12, plot: 'Rocky struggles in family life after his bout with Apollo Creed, while the embarrassed champ insistently goads him to accept a challenge for a rematch.', poster: 'https://image.tmdb.org/t/p/w440_and_h660_face/b7InUqaGt66t5zF65f6hsK9lD8R.jpg', profit: 78182160, profitmargin: 12, released: '1979-06-15', revenue: 85182160, runtime: 119, sharveen: 0.15000000000000002, subcommunities: [1919], title: 'Rocky II', tmdbId: '1367', url: 'https://themoviedb.org/movie/1367', year: 1979}), similarity: 1.0}, {node: (_1161:Movie {actor_name: 'David Booth', actorsList: ['Neve Campbell', 'Drew Barrymore', 'Kevin Patrick Walls', 'David Booth'], budget: 14000000, communities: 1142, community: 1142, countries: ['USA'], directorList: ['Wes Craven', 'Wes Craven', 'Wes Craven', 'Wes Craven'], director_name: 'Wes Craven', imdbId: '0117571', imdbRating: 7.2, imdbVotes: 214246, lable_prop: 1161, languages: ['English'], louva: [1142], louvain: 1142, `louvain-2`: 1142, lpa: 1161, modularityOptimization: 1142, movieId: '1407', p_ratio: 12, pagerank: 0.15000000000000002, pb_ratio: 12, plot: \"Attempting to cope with her mother's murder, Sydney and her horror movie-obsessed friends are stalked by a murderer who seems to have a hard time letting the past go.\", poster: 'https://image.tmdb.org/t/p/w440_and_h660_face/aXAByjBN8UhaYvotqRCwa5MsMGu.jpg', profit: 159046663, profitmargin: 12, released: '1996-12-20', revenue: 173046663, runtime: 111, sharveen: 0.15000000000000002, subcommunities: [1142], title: 'Scream', tmdbId: '4232', url: 'https://themoviedb.org/movie/4232', year: 1996}), similarity: 1.0}, {node: (_4329:Movie {actor_name: 'Johnny Knoxville', actorsList: ['Bam Margera', 'Steve-O', 'Chris Pontius', 'Johnny Knoxville'], budget: 5000000, communities: 4310, community: 4310, countries: ['USA'], directorList: ['Jeff Tremaine', 'Jeff Tremaine', 'Jeff Tremaine', 'Jeff Tremaine'], director_name: 'Jeff Tremaine', imdbId: '0322802', imdbRating: 6.6, imdbVotes: 66432, lable_prop: 4329, languages: ['English'], louva: [4310], louvain: 4310, `louvain-2`: 4310, lpa: 4329, modularityOptimization: 4310, movieId: '5785', p_ratio: 12, pagerank: 0.15000000000000002, pb_ratio: 12, plot: 'Johnny Knoxville and his band of maniacs perform a variety of stunts and gross-out gags on the big screen for the first time.', poster: 'https://image.tmdb.org/t/p/w440_and_h660_face/m6KzYeogP85u8JVNJfh21TEKAN6.jpg', profit: 59282312, profitmargin: 12, released: '2002-10-25', revenue: 64282312, runtime: 87, sharveen: 0.15000000000000002, subcommunities: [4310], title: 'Jackass: The Movie', tmdbId: '9012', url: 'https://themoviedb.org/movie/9012', year: 2002}), similarity: 1.0}, {node: (_769:Movie {actor_name: 'Ingrid Bergman', actorsList: ['Cary Grant', 'Claude Rains', 'Louis Calhern', 'Ingrid Bergman'], budget: 2000000, communities: 750, community: 750, countries: ['USA'], directorList: ['Alfred Hitchcock', 'Alfred Hitchcock', 'Alfred Hitchcock', 'Alfred Hitchcock'], director_name: 'Alfred Hitchcock', imdbId: '0038787', imdbRating: 8.1, imdbVotes: 71749, lable_prop: 769, languages: ['English', ' French', ' Portuguese'], louva: [750], louvain: 750, `louvain-2`: 750, lpa: 769, modularityOptimization: 750, movieId: '930', p_ratio: 12, pagerank: 0.15000000000000002, pb_ratio: 12, plot: 'A woman is asked to spy on a group of Nazi friends in South America. How far will she have to go to ingratiate herself with them?', poster: 'https://image.tmdb.org/t/p/w440_and_h660_face/yUjKnpColooH88BFQJwwgNOQ56N.jpg', profit: 22464742, profitmargin: 12, released: '1946-09-06', revenue: 24464742, runtime: 101, sharveen: 0.15000000000000002, subcommunities: [750], title: 'Notorious', tmdbId: '303', url: 'https://themoviedb.org/movie/303', year: 1946}), similarity: 1.0}, {node: (_2919:Movie {actor_name: 'Diana Rigg', actorsList: ['Gabriele Ferzetti', 'Telly Savalas', 'George Lazenby', 'Diana Rigg'], budget: 6500000, communities: 2900, community: 2900, countries: ['UK', ' USA'], directorList: ['Peter R. Hunt', 'Peter R. Hunt', 'Peter R. Hunt', 'Peter R. Hunt'], director_name: 'Peter R. Hunt', imdbId: '0064757', imdbRating: 6.8, imdbVotes: 58025, lable_prop: 2919, languages: ['English', ' German', ' French'], louva: [2900], louvain: 2900, `louvain-2`: 2900, lpa: 2919, modularityOptimization: 2900, movieId: '3633', p_ratio: 12, pagerank: 0.15000000000000002, pb_ratio: 12, plot: \"James Bond woos a mob boss's daughter and goes undercover to uncover the true reason for Blofeld's allergy research in the Swiss Alps that involves beautiful women from around the world.\", poster: 'https://image.tmdb.org/t/p/w440_and_h660_face/pMOZWDBtvocTVGNIgQZbxn6byyw.jpg', profit: 75474493, profitmargin: 12, released: '1969-12-18', revenue: 81974493, runtime: 142, sharveen: 0.15000000000000002, subcommunities: [2900], title: \"On Her Majesty's Secret Service\", tmdbId: '668', url: 'https://themoviedb.org/movie/668', year: 1969}), similarity: 1.0}, {node: (_8655:Movie {actor_name: 'Kiele Sanchez', actorsList: ['Frank Grillo', 'Carmen Ejogo', 'Zach Gilford', 'Kiele Sanchez'], budget: 9000000, communities: 8635, community: 8635, countries: ['USA', ' France'], directorList: ['James DeMonaco', 'James DeMonaco', 'James DeMonaco', 'James DeMonaco'], director_name: 'James DeMonaco', imdbId: '2975578', imdbRating: 6.5, imdbVotes: 81462, lable_prop: 8655, languages: ['English'], louva: [8635], louvain: 8635, `louvain-2`: 8635, lpa: 8655, modularityOptimization: 8635, movieId: '112818', p_ratio: 12, pagerank: 0.15000000000000002, pb_ratio: 12, plot: 'Three groups of people are trying to survive Purge Night, when their stories intertwine and are left stranded in The Purge trying to survive the chaos and violence that occurs.', poster: 'https://image.tmdb.org/t/p/w440_and_h660_face/f2HD5iVhJWWv72QVWThUKk09zYy.jpg', profit: 102928365, profitmargin: 12, released: '2014-07-18', revenue: 111928365, runtime: 103, sharveen: 0.15000000000000002, subcommunities: [8635], title: 'Purge: Anarchy, The', tmdbId: '238636', url: 'https://themoviedb.org/movie/238636', year: 2014}), similarity: 1.0}, {node: (_1547:Movie {actor_name: 'Carolyn Farina', actorsList: ['Taylor Nichols', 'Chris Eigeman', 'Edward Clements', 'Carolyn Farina'], budget: 225000, communities: 1528, community: 1528, countries: ['USA'], directorList: ['Whit Stillman', 'Whit Stillman', 'Whit Stillman', 'Whit Stillman'], director_name: 'Whit Stillman', imdbId: '0100142', imdbRating: 7.5, imdbVotes: 6898, lable_prop: 1547, languages: ['English'], louva: [1528], louvain: 1528, `louvain-2`: 1528, lpa: 1547, modularityOptimization: 1528, movieId: '1966', p_ratio: 12, pagerank: 0.15000000000000002, pb_ratio: 12, plot: 'A group of young upper-class Manhattanites are blithely passing through the gala debutante season, when an unusual outsider joins them and stirs them up.', poster: 'https://image.tmdb.org/t/p/w440_and_h660_face/852ZwTRj9tRxkGOT0Pu0Ep8yimk.jpg', profit: 2675000, profitmargin: 12, released: '1990-08-03', revenue: 2900000, runtime: 98, sharveen: 0.15000000000000002, subcommunities: [1528], title: 'Metropolitan', tmdbId: '15389', url: 'https://themoviedb.org/movie/15389', year: 1990}), similarity: 1.0}, {node: (_1558:Movie {actor_name: 'Erich Anderson', actorsList: ['Kimberly Beck', 'Peter Barton', 'Judie Aronson', 'Erich Anderson'], budget: 2600000, communities: 1539, community: 1539, countries: ['USA'], directorList: ['Joseph Zito', 'Joseph Zito', 'Joseph Zito', 'Joseph Zito'], director_name: 'Joseph Zito', imdbId: '0087298', imdbRating: 5.9, imdbVotes: 28288, lable_prop: 1558, languages: ['English'], louva: [1539], louvain: 1539, `louvain-2`: 1539, lpa: 1558, modularityOptimization: 1539, movieId: '1977', p_ratio: 12, pagerank: 0.15000000000000002, pb_ratio: 12, plot: 'After being mortally wounded and taken to the morgue, murderer Jason Voorhees spontaneously revives and embarks on a killing spree as he makes his way back to his home at Camp Crystal Lake.', poster: 'https://image.tmdb.org/t/p/w440_and_h660_face/5KRBkaF6PdorcFjWiDY4tJy67Jf.jpg', profit: 30380880, profitmargin: 12, released: '1984-04-13', revenue: 32980880, runtime: 91, sharveen: 0.15000000000000002, subcommunities: [1539], title: 'Friday the 13th Part IV: The Final Chapter', tmdbId: '9730', url: 'https://themoviedb.org/movie/9730', year: 1984}), similarity: 1.0}] \n",
              " (_5:Movie {actor_name: 'Jonathan Hyde', actorsList: ['Robin Williams', 'Bradley Pierce', 'Kirsten Dunst', 'Jonathan Hyde'], budget: 65000000, communities: 1, community: 1, countries: ['USA'], directorList: ['Joe Johnston', 'Joe Johnston', 'Joe Johnston', 'Joe Johnston'], director_name: 'Joe Johnston', imdbId: '0113497', imdbRating: 6.9, imdbVotes: 198355, lable_prop: 5, languages: ['English', ' French'], louva: [1], louvain: 1, `louvain-2`: 1, lpa: 5, modularityOptimization: 1, movieId: '2', p_ratio: 4, pagerank: 0.15000000000000002, pb_ratio: 4, plot: 'When two kids find and play a magical board game, they release a man trapped for decades in it and a host of dangers that can only be stopped by finishing the game.', poster: 'https://image.tmdb.org/t/p/w440_and_h660_face/vgpXmVaVyUL7GGiDeiK1mKEKzcX.jpg', profit: 197797249, profitmargin: 4, released: '1995-12-15', revenue: 262797249, runtime: 104, sharveen: 0.15000000000000002, subcommunities: [1], title: 'Jumanji', tmdbId: '8844', url: 'https://themoviedb.org/movie/8844', year: 1995}) | [{node: (_6329:Movie {actor_name: 'Diane Keaton', actorsList: ['Claire Danes', 'Rachel McAdams', 'Dermot Mulroney', 'Diane Keaton'], budget: 19000000, communities: 6310, community: 6310, countries: ['USA'], directorList: ['Thomas Bezucha', 'Thomas Bezucha', 'Thomas Bezucha', 'Thomas Bezucha'], director_name: 'Thomas Bezucha', imdbId: '0356680', imdbRating: 6.3, imdbVotes: 48360, lable_prop: 6329, languages: ['English', ' American Sign Language'], louva: [6310], louvain: 6310, `louvain-2`: 6310, lpa: 6329, modularityOptimization: 6310, movieId: '41573', p_ratio: 4, pagerank: 0.15000000000000002, pb_ratio: 4, plot: \"An uptight, conservative, businesswoman accompanies her boyfriend to his eccentric and outgoing family's annual Christmas celebration and finds that she's a fish out of water in their free-spirited way of life.\", poster: 'https://image.tmdb.org/t/p/w440_and_h660_face/3QPSWIx14H7sfaLqY5bh1qDNQhZ.jpg', profit: 73000000, profitmargin: 4, released: '2005-12-16', revenue: 92000000, runtime: 103, sharveen: 0.15000000000000002, subcommunities: [6310], title: 'Family Stone, The', tmdbId: '9043', url: 'https://themoviedb.org/movie/9043', year: 2005}), similarity: 1.0}, {node: (_1403:Movie {actor_name: 'Melanie Chisholm', actorsList: ['Victoria Beckham', 'Emma Bunton', 'Geri Halliwell', 'Melanie Chisholm'], budget: 25000000, communities: 1384, community: 1384, countries: ['UK'], directorList: ['Bob Spiers', 'Bob Spiers', 'Bob Spiers', 'Bob Spiers'], director_name: 'Bob Spiers', imdbId: '0120185', imdbRating: 3.3, imdbVotes: 27839, lable_prop: 1403, languages: ['English'], louva: [1384], louvain: 1384, `louvain-2`: 1384, lpa: 1403, modularityOptimization: 1384, movieId: '1760', p_ratio: 4, pagerank: 0.15000000000000002, pb_ratio: 4, plot: 'World famous pop group The Spice Girls zip around London in their luxurious double decker tour bus having various adventures and performing for their fans.', poster: 'https://image.tmdb.org/t/p/w440_and_h660_face/yWK6Wz8kHPlBcWW9BzZm2Dm0cOl.jpg', profit: 75000000, profitmargin: 4, released: '1998-01-23', revenue: 100000000, runtime: 93, sharveen: 0.15000000000000002, subcommunities: [1384], title: 'Spice World', tmdbId: '6116', url: 'https://themoviedb.org/movie/6116', year: 1997}), similarity: 1.0}, {node: (_6412:Movie {actor_name: 'Vinessa Shaw', actorsList: ['Kathleen Quinlan', 'Aaron Stanford', 'Emilie de Ravin', 'Vinessa Shaw'], budget: 15000000, communities: 6393, community: 6393, countries: ['USA', ' France'], directorList: ['Alexandre Aja', 'Alexandre Aja', 'Alexandre Aja', 'Alexandre Aja'], director_name: 'Alexandre Aja', imdbId: '0454841', imdbRating: 6.4, imdbVotes: 126256, lable_prop: 6412, languages: ['English'], louva: [6393], louvain: 6393, `louvain-2`: 6393, lpa: 6412, modularityOptimization: 6393, movieId: '44397', p_ratio: 4, pagerank: 0.15000000000000002, pb_ratio: 4, plot: 'A suburban American family is being stalked by a group of psychotic people who live in the desert, far away from civilization.', poster: 'https://image.tmdb.org/t/p/w440_and_h660_face/qj4C2c96T1n3YnYxFG5l5bSTKbM.jpg', profit: 54623713, profitmargin: 4, released: '2006-03-10', revenue: 69623713, runtime: 107, sharveen: 0.15000000000000002, subcommunities: [6393], title: 'Hills Have Eyes, The', tmdbId: '9792', url: 'https://themoviedb.org/movie/9792', year: 2006}), similarity: 1.0}, {node: (_1860:Movie {actor_name: 'Matthew Lawrence', actorsList: ['Debbie Harry', 'David Forrester', 'Christian Slater', 'Matthew Lawrence'], budget: 3500000, communities: 1841, community: 1841, countries: ['USA'], directorList: ['John Harrison', 'John Harrison', 'John Harrison', 'John Harrison'], director_name: 'John Harrison', imdbId: '0100740', imdbRating: 6.2, imdbVotes: 10418, lable_prop: 1860, languages: ['English'], louva: [1841], louvain: 1841, `louvain-2`: 1841, lpa: 1860, modularityOptimization: 1841, movieId: '2327', p_ratio: 4, pagerank: 0.15000000000000002, pb_ratio: 4, plot: 'In anthology style, a child tells three stories of horror to keep from being eaten by a witch.', poster: 'https://image.tmdb.org/t/p/w440_and_h660_face/t5BeYGF6qhq1oSvrBwoy9Nbb0rE.jpg', profit: 12824573, profitmargin: 4, released: '1990-05-04', revenue: 16324573, runtime: 93, sharveen: 0.15000000000000002, subcommunities: [1841], title: 'Tales from the Darkside: The Movie', tmdbId: '20701', url: 'https://themoviedb.org/movie/20701', year: 1990}), similarity: 1.0}, {node: (_4180:Movie {actor_name: 'Beyonc\\u00e9 Knowles', actorsList: ['Seth Green', 'Michael York', 'Mike Myers', 'Beyonc\\u00e9 Knowles'], budget: 63000000, communities: 4161, community: 4161, countries: ['USA'], directorList: ['Jay Roach', 'Jay Roach', 'Jay Roach', 'Jay Roach'], director_name: 'Jay Roach', imdbId: '0295178', imdbRating: 6.2, imdbVotes: 158815, lable_prop: 4180, languages: ['English', ' Japanese', ' German', ' French'], louva: [4161], louvain: 4161, `louvain-2`: 4161, lpa: 4180, modularityOptimization: 4161, movieId: '5481', p_ratio: 4, pagerank: 0.15000000000000002, pb_ratio: 4, plot: 'Upon learning that his father has been kidnapped, Austin Powers must travel to 1975 and defeat the aptly named villain Goldmember - who is working with Dr. Evil.', poster: 'https://image.tmdb.org/t/p/w440_and_h660_face/c4Sus7BvVQM6i9M3Cr0U8Vw0L9f.jpg', profit: 233655431, profitmargin: 4, released: '2002-07-26', revenue: 296655431, runtime: 94, sharveen: 0.15000000000000002, subcommunities: [4161], title: 'Austin Powers in Goldmember', tmdbId: '818', url: 'https://themoviedb.org/movie/818', year: 2002}), similarity: 1.0}, {node: (_7091:Movie {actor_name: 'Jada Pinkett Smith', actorsList: ['David Schwimmer', 'Ben Stiller', 'Chris Rock', 'Jada Pinkett Smith', 'David Schwimmer', 'Ben Stiller', 'Chris Rock', 'Jada Pinkett Smith'], budget: 150000000, communities: 7072, community: 7072, countries: ['USA'], directorList: ['Tom McGrath', 'Tom McGrath', 'Tom McGrath', 'Tom McGrath', 'Eric Darnell', 'Eric Darnell', 'Eric Darnell', 'Eric Darnell'], director_name: 'Eric Darnell', imdbId: '0479952', imdbRating: 6.7, imdbVotes: 139337, lable_prop: 7091, languages: ['English', ' Italian'], louva: [7072], louvain: 7072, `louvain-2`: 7072, lpa: 7091, modularityOptimization: 7072, movieId: '62999', p_ratio: 4, pagerank: 0.15000000000000002, pb_ratio: 4, plot: 'The animals try to fly back to New York City, but crash-land on an African wildlife refuge, where Alex is reunited with his parents.', poster: 'https://image.tmdb.org/t/p/w440_and_h660_face/9lfNdHVfd37R1GszeH5ZcWzkb14.jpg', profit: 453900354, profitmargin: 4, released: '2008-11-07', revenue: 603900354, runtime: 89, sharveen: 0.15000000000000002, subcommunities: [7072], title: 'Madagascar: Escape 2 Africa', tmdbId: '10527', url: 'https://themoviedb.org/movie/10527', year: 2008}), similarity: 1.0}, {node: (_557:Movie {actor_name: 'Charlotte Chatton', actorsList: ['Bruce Ramsay', 'Valentina Vargas', 'Doug Bradley', 'Charlotte Chatton', 'Bruce Ramsay', 'Valentina Vargas', 'Doug Bradley', 'Charlotte Chatton'], budget: 4000000, communities: 538, community: 538, countries: ['USA'], directorList: ['Alan Smithee', 'Alan Smithee', 'Alan Smithee', 'Alan Smithee', 'Kevin Yagher', 'Kevin Yagher', 'Kevin Yagher', 'Kevin Yagher'], director_name: 'Kevin Yagher', imdbId: '0116514', imdbRating: 5.0, imdbVotes: 13772, lable_prop: 557, languages: ['English'], louva: [538], louvain: 538, `louvain-2`: 538, lpa: 557, modularityOptimization: 538, movieId: '611', p_ratio: 4, pagerank: 0.15000000000000002, pb_ratio: 4, plot: 'In the 22nd century, a scientist attempts to right the wrong his ancestor created: the puzzle box that opens the gates of Hell and unleashes Pinhead and his Cenobite legions.', poster: 'https://image.tmdb.org/t/p/w440_and_h660_face/3iDJa6KyO6C2rPrWHhjzqToDxoW.jpg', profit: 12675000, profitmargin: 4, released: '1996-03-08', revenue: 16675000, runtime: 85, sharveen: 0.15000000000000002, subcommunities: [538], title: 'Hellraiser: Bloodline', tmdbId: '8766', url: 'https://themoviedb.org/movie/8766', year: 1996}), similarity: 1.0}, {node: (_3453:Movie {actor_name: 'Anne Ramsey', actorsList: ['Danny DeVito', 'Kim Greist', 'Billy Crystal', 'Anne Ramsey'], budget: 14000000, communities: 3434, community: 3434, countries: ['USA'], directorList: ['Danny DeVito', 'Danny DeVito', 'Danny DeVito', 'Danny DeVito'], director_name: 'Danny DeVito', imdbId: '0094142', imdbRating: 6.2, imdbVotes: 26541, lable_prop: 3453, languages: ['English'], louva: [3434], louvain: 3434, `louvain-2`: 3434, lpa: 3453, modularityOptimization: 3434, movieId: '4333', p_ratio: 4, pagerank: 0.15000000000000002, pb_ratio: 4, plot: \"A bitter ex-husband. A put upon momma's boy. Both want their respective spouse and mother dead, but who will pull it off?\", poster: 'https://image.tmdb.org/t/p/w440_and_h660_face/Ap0Wo7hNS6WW1wdPOKYM3SNpewY.jpg', profit: 43915972, profitmargin: 4, released: '1987-12-11', revenue: 57915972, runtime: 88, sharveen: 0.15000000000000002, subcommunities: [3434], title: 'Throw Momma from the Train', tmdbId: '11896', url: 'https://themoviedb.org/movie/11896', year: 1987}), similarity: 1.0}, {node: (_2308:Movie {actor_name: 'Alex Weir', actorsList: ['Steven Scales', 'Lynn Mabry', 'Bernie Worrell', 'Alex Weir'], budget: 1200000, communities: 2289, community: 2289, countries: ['USA'], directorList: ['Jonathan Demme', 'Jonathan Demme', 'Jonathan Demme', 'Jonathan Demme'], director_name: 'Jonathan Demme', imdbId: '0088178', imdbRating: 8.5, imdbVotes: 8010, lable_prop: 2308, languages: ['English'], louva: [2289], louvain: 2289, `louvain-2`: 2289, lpa: 2308, modularityOptimization: 2289, movieId: '2859', p_ratio: 4, pagerank: 0.15000000000000002, pb_ratio: 4, plot: 'An innovative concert movie for the rock group The Talking Heads.', poster: 'https://image.tmdb.org/t/p/w440_and_h660_face/uFMsMsk1NGo0QWs9IHknZVHSe4O.jpg', profit: 3778922, profitmargin: 4, released: '1984-11-16', revenue: 4978922, runtime: 88, sharveen: 0.15000000000000002, subcommunities: [2289], title: 'Stop Making Sense', tmdbId: '24128', url: 'https://themoviedb.org/movie/24128', year: 1984}), similarity: 1.0}, {node: (_5655:Movie {actor_name: 'Bill Fagerbakke', actorsList: ['Tom Kenny', 'Clancy Brown', 'Rodger Bumpass', 'Bill Fagerbakke'], budget: 30000000, communities: 5636, community: 5636, countries: ['USA'], directorList: ['Stephen Hillenburg', 'Stephen Hillenburg', 'Stephen Hillenburg', 'Stephen Hillenburg'], director_name: 'Stephen Hillenburg', imdbId: '0345950', imdbRating: 7.0, imdbVotes: 56499, lable_prop: 5655, languages: ['English'], louva: [5636], louvain: 5636, `louvain-2`: 5636, lpa: 5655, modularityOptimization: 5636, movieId: '8974', p_ratio: 4, pagerank: 0.15000000000000002, pb_ratio: 4, plot: \"SpongeBob SquarePants takes leave from the town of Bikini Bottom in order to track down King Neptune's stolen crown.\", poster: 'https://image.tmdb.org/t/p/w440_and_h660_face/nLvLlyODv0StiSYDeCTE5KnN0Gi.jpg', profit: 110161792, profitmargin: 4, released: '2004-11-19', revenue: 140161792, runtime: 87, sharveen: 0.15000000000000002, subcommunities: [5636], title: 'SpongeBob SquarePants Movie, The', tmdbId: '11836', url: 'https://themoviedb.org/movie/11836', year: 2004}), similarity: 1.0}]                                                                                     \n",
              " (_7:Movie {actor_name: 'Sophia Loren', actorsList: ['Walter Matthau', 'Ann-Margret', 'Jack Lemmon', 'Sophia Loren'], communities: 2, community: 2, countries: ['USA'], directorList: ['Howard Deutch', 'Howard Deutch', 'Howard Deutch', 'Howard Deutch'], director_name: 'Howard Deutch', imdbId: '0113228', imdbRating: 6.6, imdbVotes: 18615, lable_prop: 7, languages: ['English'], louva: [2], louvain: 2, `louvain-2`: 2, lpa: 7, modularityOptimization: 2, movieId: '3', pagerank: 0.15000000000000002, plot: \"John and Max resolve to save their beloved bait shop from turning into an Italian restaurant, just as its new female owner catches Max's attention.\", poster: 'https://image.tmdb.org/t/p/w440_and_h660_face/1FSXpj5e8l4KH6nVFO5SPUeraOt.jpg', released: '1995-12-22', runtime: 101, sharveen: 0.15000000000000002, subcommunities: [2], title: 'Grumpier Old Men', tmdbId: '15602', url: 'https://themoviedb.org/movie/15602', year: 1995})                                                                                                                        | [{node: (_8135:Movie {actor_name: 'Virginia Nebab', actorsList: ['David Siegel', 'Jackie Siegel', 'Virginia Nebab'], communities: 8115, community: 8115, countries: ['USA', ' Netherlands', ' UK', ' Denmark'], directorList: ['Lauren Greenfield', 'Lauren Greenfield', 'Lauren Greenfield'], director_name: 'Lauren Greenfield', imdbId: '2125666', imdbRating: 7.1, imdbVotes: 10406, lable_prop: 8135, languages: ['English'], louva: [8115], louvain: 8115, `louvain-2`: 8115, lpa: 8135, modularityOptimization: 8115, movieId: '96150', pagerank: 0.15000000000000002, plot: 'A documentary that follows a billionaire couple as they begin construction on a mansion inspired by Versailles. During the next two years, their empire, fueled by the real estate bubble and cheap money, falters due to the economic crisis.', poster: 'https://image.tmdb.org/t/p/w440_and_h660_face/9VxMIPT3nGusKhr8084m26vdeTj.jpg', released: '2014-08-16', revenue: 714544, runtime: 100, sharveen: 0.15000000000000002, subcommunities: [8115], title: 'Queen of Versailles, The', tmdbId: '84327', url: 'https://themoviedb.org/movie/84327', year: 2012}), similarity: 1.0}, {node: (_7022:Movie {actor_name: 'Ben Browder', actorsList: ['Michael Shanks', 'Christopher Judge', 'Amanda Tapping', 'Ben Browder'], budget: 7000000, communities: 7003, community: 7003, countries: ['Canada', ' USA'], directorList: ['Martin Wood', 'Martin Wood', 'Martin Wood', 'Martin Wood'], director_name: 'Martin Wood', imdbId: '0929629', imdbRating: 7.6, imdbVotes: 16868, lable_prop: 7022, languages: ['English'], louva: [7003], louvain: 7003, `louvain-2`: 7003, lpa: 7022, modularityOptimization: 7003, movieId: '60674', pagerank: 0.15000000000000002, plot: \"Ba'al travels back in time and prevents the Stargate program from being started. SG-1 must somehow restore history.\", poster: 'https://image.tmdb.org/t/p/w440_and_h660_face/exCFVhFQWnVbGPbr2JeTQwK7Mgw.jpg', released: '2008-07-29', runtime: 98, sharveen: 0.15000000000000002, subcommunities: [7003], title: 'Stargate: Continuum', tmdbId: '12914', url: 'https://themoviedb.org/movie/12914', year: 2008}), similarity: 1.0}, {node: (_4525:Movie {actor_name: 'John Boylan', actorsList: ['Lucinda Jenney', 'Edward Furlong', 'Jeff Bridges', 'John Boylan'], communities: 4506, community: 4506, countries: ['USA'], directorList: ['Martin Bell', 'Martin Bell', 'Martin Bell', 'Martin Bell'], director_name: 'Martin Bell', imdbId: '0103670', imdbRating: 6.8, imdbVotes: 2361, lable_prop: 4525, languages: ['English'], louva: [4506], louvain: 4506, `louvain-2`: 4506, lpa: 4525, modularityOptimization: 4506, movieId: '6198', pagerank: 0.15000000000000002, plot: 'Jack is now out of jail and he meets Nick, his adolescent son. Their relationship will be complicated, because Jack has a problem with alcohol. But his love for Nick will help him to get over the past and reach his dreams.', poster: 'https://image.tmdb.org/t/p/w440_and_h660_face/aoMgpDCbITt82rngUyA9WwIBOew.jpg', released: '1993-05-07', runtime: 113, sharveen: 0.15000000000000002, subcommunities: [4506], title: 'American Heart', tmdbId: '7015', url: 'https://themoviedb.org/movie/7015', year: 1992}), similarity: 1.0}, {node: (_3008:Movie {actor_name: 'Michael Kane', actorsList: ['Kirk Douglas', 'Gena Rowlands', 'Walter Matthau', 'Michael Kane', 'Kirk Douglas', 'Gena Rowlands', 'Walter Matthau', 'Michael Kane'], communities: 2989, community: 2989, countries: ['USA'], directorList: ['David Miller', 'David Miller', 'David Miller', 'David Miller', 'David Miller', 'David Miller', 'David Miller', 'David Miller'], director_name: 'David Miller', imdbId: '0056195', imdbRating: 7.7, imdbVotes: 5519, lable_prop: 3008, languages: ['English', ' Spanish'], louva: [2989], louvain: 2989, `louvain-2`: 2989, lpa: 3008, modularityOptimization: 2989, movieId: '3737', pagerank: 0.15000000000000002, plot: 'A fiercely independent cowboy arranges to have himself locked up in jail in order to then escape with an old friend who has been sentenced to the penitentiary.', poster: 'https://image.tmdb.org/t/p/w440_and_h660_face/h5gaDp7FurCVfUCIceZxcP3eaXG.jpg', released: '1962-06-14', runtime: 107, sharveen: 0.15000000000000002, subcommunities: [2989], title: 'Lonely Are the Brave', tmdbId: '43002', url: 'https://themoviedb.org/movie/43002', year: 1962}), similarity: 1.0}, {node: (_2691:Movie {actor_name: 'Tor Johnson', actorsList: ['Tony McCoy', 'Loretta King', 'Bela Lugosi', 'Tor Johnson'], budget: 70000, communities: 2672, community: 2672, countries: ['USA'], directorList: ['Edward D. Wood Jr.', 'Edward D. Wood Jr.', 'Edward D. Wood Jr.', 'Edward D. Wood Jr.'], director_name: 'Edward D. Wood Jr.', imdbId: '0047898', imdbRating: 4.1, imdbVotes: 5209, lable_prop: 2691, languages: ['English'], louva: [2672], louvain: 2672, `louvain-2`: 2672, lpa: 2691, modularityOptimization: 2672, movieId: '3340', pagerank: 0.15000000000000002, plot: 'A mad doctor attempts to create atomic supermen.', poster: 'https://image.tmdb.org/t/p/w440_and_h660_face/aSptrb8D0e5tEdpFbZLQSiQThbE.jpg', released: '1956-02-01', runtime: 69, sharveen: 0.15000000000000002, subcommunities: [2672], title: 'Bride of the Monster', tmdbId: '36489', url: 'https://themoviedb.org/movie/36489', year: 1955}), similarity: 1.0}, {node: (_8729:Movie {actor_name: 'Vivian Nathan', actorsList: ['Burt Lancaster', 'Dina Merrill', 'Edward Andrews', 'Vivian Nathan'], communities: 8709, community: 8709, countries: ['USA'], directorList: ['John Frankenheimer', 'John Frankenheimer', 'John Frankenheimer', 'John Frankenheimer'], director_name: 'John Frankenheimer', imdbId: '0055633', imdbRating: 7.0, imdbVotes: 1354, lable_prop: 8729, languages: ['English', ' Italian', ' Spanish'], louva: [8709], louvain: 8709, `louvain-2`: 8709, lpa: 8729, modularityOptimization: 8709, movieId: '116012', pagerank: 0.15000000000000002, plot: \"A district attorney investigates the racially charged case of three teenagers accused of the murder of a blind Puerto Rican boy. He begins to discover that the facts in the case aren't ...\", poster: 'https://image.tmdb.org/t/p/w440_and_h660_face/86qn90JdeDGfvpOfO8WxTC1Gupk.jpg', released: '1961-05-24', runtime: 103, sharveen: 0.15000000000000002, subcommunities: [8709], title: 'The Young Savages', tmdbId: '86616', url: 'https://themoviedb.org/movie/86616', year: 1961}), similarity: 1.0}, {node: (_7550:Movie {actor_name: 'Geraldine Chaplin', actorsList: ['Leonardo Sbaraglia', 'Bel\\u00e9n Fabra', 'Llum Barrera', 'Geraldine Chaplin'], communities: 7531, community: 7531, countries: ['Spain'], directorList: ['Christian Molina', 'Christian Molina', 'Christian Molina', 'Christian Molina'], director_name: 'Christian Molina', imdbId: '1111890', imdbRating: 5.8, imdbVotes: 7784, lable_prop: 7550, languages: ['Spanish', ' French'], louva: [7531], louvain: 7531, `louvain-2`: 7531, lpa: 7550, modularityOptimization: 7531, movieId: '77810', pagerank: 0.15000000000000002, plot: \"A chronicle of the life of a middle-class French girl's sexual adventures, her then fall into prostitution, and her ultimate redemption.\", poster: 'https://image.tmdb.org/t/p/w440_and_h660_face/yVYTeiFv7oQsSQF9OBRngg7ZqLg.jpg', released: '2008-10-17', runtime: 102, sharveen: 0.15000000000000002, subcommunities: [7531], title: 'Diary of a Nymphomaniac (Diario de una Ninf\\u00f3mana)', tmdbId: '19173', url: 'https://themoviedb.org/movie/19173', year: 2008}), similarity: 1.0}, {node: (_8176:Movie {actor_name: 'Laura Liddell', actorsList: ['Shashi Kapoor', 'Felicity Kendal', 'Geoffrey Kendal', 'Laura Liddell'], communities: 8156, community: 8156, countries: ['USA'], directorList: ['James Ivory', 'James Ivory', 'James Ivory', 'James Ivory'], director_name: 'James Ivory', imdbId: '0059709', imdbRating: 7.0, imdbVotes: 450, lable_prop: 8176, languages: ['English', ' Hindi'], louva: [8156], louvain: 8156, `louvain-2`: 8156, lpa: 8176, modularityOptimization: 8156, movieId: '97254', pagerank: 0.15000000000000002, plot: 'The story of a family troupe of English actors in India. They travel around the towns and villages giving performances of Shakespearean plays. Through their travels we see the changing face...', poster: 'https://image.tmdb.org/t/p/w440_and_h660_face/Mypbj6ccAFog4PttIfJGWV1zkv.jpg', released: '1965-12-01', runtime: 120, sharveen: 0.15000000000000002, subcommunities: [8156], title: 'Shakespeare-Wallah', tmdbId: '109600', url: 'https://themoviedb.org/movie/109600', year: 1965}), similarity: 1.0}, {node: (_8925:Movie {actor_name: 'Bashar Rahal', actorsList: ['Dylan McDermott', 'Parker Sawyers', 'Royce Pierreson', 'Bashar Rahal'], budget: 20000000, communities: 8905, community: 8905, countries: ['USA', ' UK'], directorList: [' James McTeigue', ' James McTeigue', ' James McTeigue', ' James McTeigue'], director_name: ' James McTeigue', imdbId: '3247714', imdbRating: 5.6, imdbVotes: 19578, lable_prop: 8925, languages: ['English'], louva: [8905], louvain: 8905, `louvain-2`: 8905, lpa: 8925, modularityOptimization: 8905, movieId: '134246', pagerank: 0.15000000000000002, plot: 'A Foreign Service Officer in London tries to prevent a terrorist attack set to hit New York, but is forced to go on the run when she is framed for crimes she did not commit.', poster: 'https://image.tmdb.org/t/p/w440_and_h660_face/npyCpfYyYknFoY2iJPyfqp70FVX.jpg', released: '2015-05-29', runtime: 96, sharveen: 0.15000000000000002, subcommunities: [8905], title: 'Survivor', tmdbId: '334074', url: 'https://themoviedb.org/movie/334074', year: 2015}), similarity: 1.0}, {node: (_2437:Movie {actor_name: 'Anne Yernaux', actorsList: ['Fabrizio Rongione', '\\u00c9milie Dequenne', 'Olivier Gourmet', 'Anne Yernaux', 'Fabrizio Rongione', '\\u00c9milie Dequenne', 'Olivier Gourmet', 'Anne Yernaux'], communities: 2418, community: 2418, countries: ['France', ' Belgium'], directorList: [' Jean-Pierre Dardenne', ' Jean-Pierre Dardenne', ' Jean-Pierre Dardenne', ' Jean-Pierre Dardenne', ' Luc Dardenne', ' Luc Dardenne', ' Luc Dardenne', ' Luc Dardenne'], director_name: ' Luc Dardenne', imdbId: '0200071', imdbRating: 7.6, imdbVotes: 8757, lable_prop: 2437, languages: ['French'], louva: [2418], louvain: 2418, `louvain-2`: 2418, lpa: 2437, modularityOptimization: 2418, movieId: '3010', pagerank: 0.15000000000000002, plot: 'Young and impulsive Rosetta lives with her alcoholic mother and, moved by despair, she will do anything to maintain a job.', poster: 'https://image.tmdb.org/t/p/w440_and_h660_face/4j1JA5eJHwYbI53RVGoAMIwCH9u.jpg', released: '1999-09-22', revenue: 266665, runtime: 95, sharveen: 0.15000000000000002, subcommunities: [2418], title: 'Rosetta', tmdbId: '11489', url: 'https://themoviedb.org/movie/11489', year: 1999}), similarity: 1.0}]                                                                                                                                                                                                                                                                                                                                                                                                                                                                                                                                                                                                                                                 "
            ]
          },
          "metadata": {},
          "execution_count": 28
        }
      ]
    }
  ]
}